{
 "cells": [
  {
   "cell_type": "markdown",
   "id": "e86be368-cd4b-472f-8f2c-cc8f80f0ec80",
   "metadata": {},
   "source": [
    "## This is intro session"
   ]
  },
  {
   "cell_type": "markdown",
   "id": "d7516f6a-f41b-4284-a585-af93503fd141",
   "metadata": {},
   "source": [
    "# This is intro session"
   ]
  },
  {
   "cell_type": "markdown",
   "id": "c9ec58ee-b709-4050-889f-b41217eecaa0",
   "metadata": {},
   "source": [
    "# This is intro session\n",
    "## Example\n",
    "### Welcome to Pw Data Science Master Batch\n"
   ]
  },
  {
   "cell_type": "code",
   "execution_count": 6,
   "id": "25de4de2-db95-4356-b5c3-cfeb12c189b2",
   "metadata": {},
   "outputs": [],
   "source": [
    "a=10"
   ]
  },
  {
   "cell_type": "code",
   "execution_count": 8,
   "id": "8ce63e7e-a991-4263-b1f0-19b37be42004",
   "metadata": {},
   "outputs": [
    {
     "name": "stdout",
     "output_type": "stream",
     "text": [
      "10\n"
     ]
    }
   ],
   "source": [
    "print(a)"
   ]
  },
  {
   "cell_type": "code",
   "execution_count": 9,
   "id": "9c2ab333-fbd2-440a-a062-4f27b66360f8",
   "metadata": {},
   "outputs": [
    {
     "data": {
      "text/plain": [
       "2"
      ]
     },
     "execution_count": 9,
     "metadata": {},
     "output_type": "execute_result"
    }
   ],
   "source": [
    "1+1"
   ]
  },
  {
   "cell_type": "code",
   "execution_count": null,
   "id": "44b25ef0-0986-46db-b75a-cabb76cb0bc7",
   "metadata": {},
   "outputs": [],
   "source": []
  },
  {
   "cell_type": "code",
   "execution_count": 10,
   "id": "07a00f76-f984-447e-acfc-01285adfe08d",
   "metadata": {},
   "outputs": [
    {
     "data": {
      "text/plain": [
       "2"
      ]
     },
     "execution_count": 10,
     "metadata": {},
     "output_type": "execute_result"
    }
   ],
   "source": [
    "1+1"
   ]
  },
  {
   "cell_type": "code",
   "execution_count": 12,
   "id": "e78355b8-b895-4b0d-85f9-a22c901eb8bf",
   "metadata": {},
   "outputs": [
    {
     "data": {
      "text/plain": [
       "20"
      ]
     },
     "execution_count": 12,
     "metadata": {},
     "output_type": "execute_result"
    }
   ],
   "source": [
    "## Comments\n",
    "## This is function\n",
    "a=20\n",
    "a"
   ]
  },
  {
   "cell_type": "code",
   "execution_count": 13,
   "id": "041a1a7b-bcf2-44df-94f7-f978c33a8f8d",
   "metadata": {},
   "outputs": [
    {
     "data": {
      "text/plain": [
       "20"
      ]
     },
     "execution_count": 13,
     "metadata": {},
     "output_type": "execute_result"
    }
   ],
   "source": [
    "\"\"\"\n",
    "This is example of muitiline comments\n",
    "hello is a example of python\n",
    "\"\"\"\n",
    "a=20\n",
    "a"
   ]
  },
  {
   "cell_type": "markdown",
   "id": "9b033a6f-7068-414e-987d-23e813ed9821",
   "metadata": {},
   "source": [
    "# HELLO\n",
    "## HELLO 1\n",
    "### HELLO 2\n",
    "1.HELLO GUYS"
   ]
  },
  {
   "cell_type": "markdown",
   "id": "b8229e46-57b4-4f2c-b7ee-9a03c8e9f398",
   "metadata": {},
   "source": [
    "## Numbers"
   ]
  },
  {
   "cell_type": "code",
   "execution_count": 14,
   "id": "a226ed3d-99ea-4d10-9d0c-acba249a5aa6",
   "metadata": {},
   "outputs": [
    {
     "name": "stdout",
     "output_type": "stream",
     "text": [
      "4\n"
     ]
    }
   ],
   "source": [
    "print(1+3)"
   ]
  },
  {
   "cell_type": "code",
   "execution_count": 17,
   "id": "45ad6d6d-dec1-4403-a358-0606614eb9bd",
   "metadata": {},
   "outputs": [
    {
     "name": "stdout",
     "output_type": "stream",
     "text": [
      " hello world my name is Krish i work \n",
      " in pw skill and i neuron\n"
     ]
    }
   ],
   "source": [
    "print(\" hello world my name is Krish i work \\n in pw skill and i neuron\")"
   ]
  },
  {
   "cell_type": "markdown",
   "id": "766c08e1-da54-4808-b8a4-3e5abfa4dfb6",
   "metadata": {},
   "source": [
    "## Variable Assignment"
   ]
  },
  {
   "cell_type": "code",
   "execution_count": 18,
   "id": "bcd61253-e4c9-4f6c-bff7-4d0a6b8fb522",
   "metadata": {},
   "outputs": [],
   "source": [
    "name=\"krish\"\n",
    "company=\"Pw skill and ineuron\""
   ]
  },
  {
   "cell_type": "code",
   "execution_count": 23,
   "id": "35904877-56d7-4aab-8203-78d981f36af6",
   "metadata": {},
   "outputs": [],
   "source": [
    "name=\"Bala\""
   ]
  },
  {
   "cell_type": "code",
   "execution_count": 24,
   "id": "b6e4fec3-749f-4272-be06-233c720c4955",
   "metadata": {},
   "outputs": [
    {
     "data": {
      "text/plain": [
       "'Bala'"
      ]
     },
     "execution_count": 24,
     "metadata": {},
     "output_type": "execute_result"
    }
   ],
   "source": [
    "name"
   ]
  },
  {
   "cell_type": "code",
   "execution_count": 20,
   "id": "4f81d16d-3b63-4ca8-9ffd-9da43267cf78",
   "metadata": {},
   "outputs": [
    {
     "name": "stdout",
     "output_type": "stream",
     "text": [
      "krish\n"
     ]
    }
   ],
   "source": [
    "print(name)"
   ]
  },
  {
   "cell_type": "code",
   "execution_count": 21,
   "id": "b7eb8f33-5f06-40b2-ad79-df66644149d4",
   "metadata": {},
   "outputs": [],
   "source": [
    "number=10"
   ]
  },
  {
   "cell_type": "code",
   "execution_count": 22,
   "id": "4e2de746-c99e-41a2-b3ef-672bdfab88b1",
   "metadata": {},
   "outputs": [
    {
     "data": {
      "text/plain": [
       "10"
      ]
     },
     "execution_count": 22,
     "metadata": {},
     "output_type": "execute_result"
    }
   ],
   "source": [
    "number"
   ]
  },
  {
   "cell_type": "code",
   "execution_count": 25,
   "id": "1a3eee20-817a-4073-b84e-89a407190fe9",
   "metadata": {},
   "outputs": [
    {
     "data": {
      "text/plain": [
       "str"
      ]
     },
     "execution_count": 25,
     "metadata": {},
     "output_type": "execute_result"
    }
   ],
   "source": [
    "type(name)"
   ]
  },
  {
   "cell_type": "code",
   "execution_count": 26,
   "id": "04e3a592-56a9-44cf-8366-72d6fd988b68",
   "metadata": {},
   "outputs": [
    {
     "data": {
      "text/plain": [
       "int"
      ]
     },
     "execution_count": 26,
     "metadata": {},
     "output_type": "execute_result"
    }
   ],
   "source": [
    "type(number)"
   ]
  },
  {
   "cell_type": "code",
   "execution_count": 27,
   "id": "d943c5d1-95b2-4c28-804f-a7aaab72eaf8",
   "metadata": {},
   "outputs": [],
   "source": [
    "decimal_num=3.5"
   ]
  },
  {
   "cell_type": "code",
   "execution_count": 28,
   "id": "6cb8655e-924c-4b84-b2a6-2c2a7c5b98b6",
   "metadata": {},
   "outputs": [
    {
     "data": {
      "text/plain": [
       "3.5"
      ]
     },
     "execution_count": 28,
     "metadata": {},
     "output_type": "execute_result"
    }
   ],
   "source": [
    "decimal_num"
   ]
  },
  {
   "cell_type": "code",
   "execution_count": 29,
   "id": "e4e7ed6b-e051-4122-a895-c8aebef375f0",
   "metadata": {},
   "outputs": [
    {
     "data": {
      "text/plain": [
       "float"
      ]
     },
     "execution_count": 29,
     "metadata": {},
     "output_type": "execute_result"
    }
   ],
   "source": [
    "type(decimal_num)"
   ]
  },
  {
   "cell_type": "code",
   "execution_count": 30,
   "id": "8ea315db-a350-4ead-8a98-9542513cee64",
   "metadata": {},
   "outputs": [
    {
     "data": {
      "text/plain": [
       "complex"
      ]
     },
     "execution_count": 30,
     "metadata": {},
     "output_type": "execute_result"
    }
   ],
   "source": [
    "type(2+1j)"
   ]
  },
  {
   "cell_type": "code",
   "execution_count": 31,
   "id": "ce1708da-0415-49b9-82d4-59b7be757522",
   "metadata": {},
   "outputs": [
    {
     "name": "stdout",
     "output_type": "stream",
     "text": [
      "Hello\n",
      "Hello\n"
     ]
    }
   ],
   "source": [
    "print('Hello')\n",
    "print(\"Hello\")"
   ]
  },
  {
   "cell_type": "code",
   "execution_count": 39,
   "id": "e3826aed-9a52-4122-ba1a-82ce7f76dd8d",
   "metadata": {},
   "outputs": [],
   "source": [
    "number1=23\n"
   ]
  },
  {
   "cell_type": "code",
   "execution_count": 42,
   "id": "edf9bb1d-0186-40b4-aa81-9c1d86f49097",
   "metadata": {},
   "outputs": [
    {
     "name": "stdout",
     "output_type": "stream",
     "text": [
      "ineuron\n",
      "PWSKILLS\n"
     ]
    }
   ],
   "source": [
    "##Variables are case sensitive\n",
    "company=\"ineuron\"\n",
    "Company=\"PWSKILLS\"\n",
    "print(company)\n",
    "print(Company)"
   ]
  },
  {
   "cell_type": "code",
   "execution_count": 44,
   "id": "ea807c8d-1553-42f8-9091-213d7a744087",
   "metadata": {},
   "outputs": [
    {
     "data": {
      "text/plain": [
       "True"
      ]
     },
     "execution_count": 44,
     "metadata": {},
     "output_type": "execute_result"
    }
   ],
   "source": [
    "## Boolean\n",
    "True"
   ]
  },
  {
   "cell_type": "code",
   "execution_count": 45,
   "id": "681015c3-9bbc-483a-9a44-8c423b1610f9",
   "metadata": {},
   "outputs": [
    {
     "data": {
      "text/plain": [
       "False"
      ]
     },
     "execution_count": 45,
     "metadata": {},
     "output_type": "execute_result"
    }
   ],
   "source": [
    "False"
   ]
  },
  {
   "cell_type": "code",
   "execution_count": 46,
   "id": "cff8e16b-63ec-4c08-9be8-58fd05914560",
   "metadata": {},
   "outputs": [
    {
     "data": {
      "text/plain": [
       "False"
      ]
     },
     "execution_count": 46,
     "metadata": {},
     "output_type": "execute_result"
    }
   ],
   "source": [
    "True and False"
   ]
  },
  {
   "cell_type": "code",
   "execution_count": 47,
   "id": "db4f0efe-d5ae-4b7d-b703-d5971c6681df",
   "metadata": {},
   "outputs": [
    {
     "data": {
      "text/plain": [
       "True"
      ]
     },
     "execution_count": 47,
     "metadata": {},
     "output_type": "execute_result"
    }
   ],
   "source": [
    "True or False"
   ]
  },
  {
   "cell_type": "code",
   "execution_count": 48,
   "id": "a19e0301-5eaf-461d-a9f6-f9bd1e300517",
   "metadata": {},
   "outputs": [
    {
     "data": {
      "text/plain": [
       "False"
      ]
     },
     "execution_count": 48,
     "metadata": {},
     "output_type": "execute_result"
    }
   ],
   "source": [
    "not True"
   ]
  },
  {
   "cell_type": "code",
   "execution_count": 49,
   "id": "c43efceb-03d2-4176-8af7-2facea2cd614",
   "metadata": {},
   "outputs": [
    {
     "data": {
      "text/plain": [
       "True"
      ]
     },
     "execution_count": 49,
     "metadata": {},
     "output_type": "execute_result"
    }
   ],
   "source": [
    "not False"
   ]
  },
  {
   "cell_type": "code",
   "execution_count": 50,
   "id": "184173f2-3768-4495-b574-913e97954141",
   "metadata": {},
   "outputs": [
    {
     "data": {
      "text/plain": [
       "bool"
      ]
     },
     "execution_count": 50,
     "metadata": {},
     "output_type": "execute_result"
    }
   ],
   "source": [
    "type(not True)"
   ]
  },
  {
   "cell_type": "code",
   "execution_count": 51,
   "id": "86db715f-9f6f-44c0-afda-c007e46ca728",
   "metadata": {},
   "outputs": [
    {
     "data": {
      "text/plain": [
       "False"
      ]
     },
     "execution_count": 51,
     "metadata": {},
     "output_type": "execute_result"
    }
   ],
   "source": [
    "## Typecasting\n",
    "bool(0)"
   ]
  },
  {
   "cell_type": "code",
   "execution_count": 52,
   "id": "88722e8f-b8d3-4996-bab1-d0660557e0cf",
   "metadata": {},
   "outputs": [
    {
     "data": {
      "text/plain": [
       "True"
      ]
     },
     "execution_count": 52,
     "metadata": {},
     "output_type": "execute_result"
    }
   ],
   "source": [
    "bool(1)"
   ]
  },
  {
   "cell_type": "code",
   "execution_count": 55,
   "id": "80942e40-bcc1-4cae-a389-d13f33c098f7",
   "metadata": {},
   "outputs": [
    {
     "name": "stdout",
     "output_type": "stream",
     "text": [
      "True\n"
     ]
    }
   ],
   "source": [
    "a=1\n",
    "if bool(a)==1:\n",
    "   print(\"True\")"
   ]
  },
  {
   "cell_type": "code",
   "execution_count": 56,
   "id": "1d0352ce-8864-4bbf-8cef-2e4cdc060261",
   "metadata": {},
   "outputs": [
    {
     "data": {
      "text/plain": [
       "'23'"
      ]
     },
     "execution_count": 56,
     "metadata": {},
     "output_type": "execute_result"
    }
   ],
   "source": [
    "str(23)"
   ]
  },
  {
   "cell_type": "code",
   "execution_count": 57,
   "id": "8ec97f40-b834-40d7-845f-968846be22ab",
   "metadata": {},
   "outputs": [
    {
     "data": {
      "text/plain": [
       "23"
      ]
     },
     "execution_count": 57,
     "metadata": {},
     "output_type": "execute_result"
    }
   ],
   "source": [
    "int('23')"
   ]
  },
  {
   "cell_type": "code",
   "execution_count": 58,
   "id": "02491ced-67bc-43e1-b8e4-f6289760f869",
   "metadata": {},
   "outputs": [
    {
     "data": {
      "text/plain": [
       "int"
      ]
     },
     "execution_count": 58,
     "metadata": {},
     "output_type": "execute_result"
    }
   ],
   "source": [
    "type(int('23'))"
   ]
  },
  {
   "cell_type": "markdown",
   "id": "b015704f-5a83-4034-8d34-3251dcf0d42b",
   "metadata": {},
   "source": [
    "## Dynamic Typing"
   ]
  },
  {
   "cell_type": "code",
   "execution_count": 62,
   "id": "333de58d-d91b-426f-9532-c7d0aa98b649",
   "metadata": {},
   "outputs": [],
   "source": [
    "a=12\n",
    "str1=\"krish\"\n",
    "a=\"var\""
   ]
  },
  {
   "cell_type": "code",
   "execution_count": 63,
   "id": "b9e5f20d-015c-4f18-8537-dee4d6a6638e",
   "metadata": {},
   "outputs": [
    {
     "name": "stdout",
     "output_type": "stream",
     "text": [
      "<class 'str'>\n"
     ]
    }
   ],
   "source": [
    "print(type(a))"
   ]
  },
  {
   "cell_type": "code",
   "execution_count": 64,
   "id": "db411e94-0659-4ff4-9c5e-11213ed89341",
   "metadata": {},
   "outputs": [
    {
     "name": "stdout",
     "output_type": "stream",
     "text": [
      "var\n"
     ]
    }
   ],
   "source": [
    "print(a)"
   ]
  },
  {
   "cell_type": "code",
   "execution_count": 65,
   "id": "1ec92509-3d8e-4c51-8543-8c3ccf6dfe86",
   "metadata": {},
   "outputs": [
    {
     "data": {
      "text/plain": [
       "2"
      ]
     },
     "execution_count": 65,
     "metadata": {},
     "output_type": "execute_result"
    }
   ],
   "source": [
    "int(2.89)"
   ]
  },
  {
   "cell_type": "code",
   "execution_count": 66,
   "id": "bc7be53c-0b52-4a82-b6c6-ab4cf474822d",
   "metadata": {},
   "outputs": [],
   "source": [
    "## Concatenation between different types"
   ]
  },
  {
   "cell_type": "code",
   "execution_count": 67,
   "id": "64899259-001d-42bb-8c33-4c4754380e7e",
   "metadata": {},
   "outputs": [
    {
     "data": {
      "text/plain": [
       "'11'"
      ]
     },
     "execution_count": 67,
     "metadata": {},
     "output_type": "execute_result"
    }
   ],
   "source": [
    "\"1\" + \"1\""
   ]
  },
  {
   "cell_type": "code",
   "execution_count": 68,
   "id": "b493592f-9004-42d1-a618-a91d98b4f12f",
   "metadata": {},
   "outputs": [
    {
     "data": {
      "text/plain": [
       "2"
      ]
     },
     "execution_count": 68,
     "metadata": {},
     "output_type": "execute_result"
    }
   ],
   "source": [
    "int(\"1\") + int(\"1\")"
   ]
  },
  {
   "cell_type": "code",
   "execution_count": 69,
   "id": "8ff8934e-1d50-4abe-8de9-b0bf33a8697a",
   "metadata": {},
   "outputs": [
    {
     "data": {
      "text/plain": [
       "'1111111111111111111111111111111111111111111111111111111111111111111111111111111111111111111111111111'"
      ]
     },
     "execution_count": 69,
     "metadata": {},
     "output_type": "execute_result"
    }
   ],
   "source": [
    "\"1\" * 100"
   ]
  },
  {
   "cell_type": "code",
   "execution_count": 70,
   "id": "911f69dc-0a69-4a62-8952-2e7bfa4491c6",
   "metadata": {},
   "outputs": [
    {
     "data": {
      "text/plain": [
       "123"
      ]
     },
     "execution_count": 70,
     "metadata": {},
     "output_type": "execute_result"
    }
   ],
   "source": [
    "int('123')"
   ]
  },
  {
   "cell_type": "code",
   "execution_count": 73,
   "id": "9aa28d10-e3e7-496b-a7e5-36236394b8d9",
   "metadata": {},
   "outputs": [
    {
     "data": {
      "text/plain": [
       "int"
      ]
     },
     "execution_count": 73,
     "metadata": {},
     "output_type": "execute_result"
    }
   ],
   "source": [
    "type(int('123'))"
   ]
  },
  {
   "cell_type": "code",
   "execution_count": 74,
   "id": "50983779-61b7-4cac-a168-3dfe8f74cffc",
   "metadata": {},
   "outputs": [
    {
     "data": {
      "text/plain": [
       "123.0"
      ]
     },
     "execution_count": 74,
     "metadata": {},
     "output_type": "execute_result"
    }
   ],
   "source": [
    "float(123)"
   ]
  },
  {
   "cell_type": "code",
   "execution_count": null,
   "id": "bdbc2d0b-b4f6-4251-9946-724665426c18",
   "metadata": {},
   "outputs": [],
   "source": []
  },
  {
   "cell_type": "code",
   "execution_count": null,
   "id": "be0812e3-3f88-43ae-a18c-72d39c789d04",
   "metadata": {},
   "outputs": [],
   "source": []
  },
  {
   "cell_type": "code",
   "execution_count": null,
   "id": "fa5d9865-2abe-4b42-9147-fa8d354c192d",
   "metadata": {},
   "outputs": [],
   "source": []
  },
  {
   "cell_type": "code",
   "execution_count": null,
   "id": "e1b56679-0b4d-4067-9a48-4aa0f56f4014",
   "metadata": {},
   "outputs": [],
   "source": []
  },
  {
   "cell_type": "code",
   "execution_count": null,
   "id": "a81e42a3-7079-4048-b6d9-b72eda29a4e6",
   "metadata": {},
   "outputs": [],
   "source": []
  },
  {
   "cell_type": "code",
   "execution_count": null,
   "id": "db04cbea-0ac9-4975-8589-5f892346bbaf",
   "metadata": {},
   "outputs": [],
   "source": []
  }
 ],
 "metadata": {
  "kernelspec": {
   "display_name": "Python 3 (ipykernel)",
   "language": "python",
   "name": "python3"
  },
  "language_info": {
   "codemirror_mode": {
    "name": "ipython",
    "version": 3
   },
   "file_extension": ".py",
   "mimetype": "text/x-python",
   "name": "python",
   "nbconvert_exporter": "python",
   "pygments_lexer": "ipython3",
   "version": "3.10.8"
  }
 },
 "nbformat": 4,
 "nbformat_minor": 5
}
