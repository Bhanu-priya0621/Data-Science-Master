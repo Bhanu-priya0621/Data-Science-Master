{
 "cells": [
  {
   "cell_type": "markdown",
   "id": "ed20242b-254a-4ae7-b666-259de80dbff0",
   "metadata": {},
   "source": [
    "## LOGICAL OPERATORS\n",
    "1. And\n",
    "\n",
    "2. or\n",
    "\n",
    "3. not"
   ]
  },
  {
   "cell_type": "code",
   "execution_count": 1,
   "id": "92127bb6-85ec-4500-8ac4-f4ac9f8f58a6",
   "metadata": {},
   "outputs": [
    {
     "data": {
      "text/plain": [
       "True"
      ]
     },
     "execution_count": 1,
     "metadata": {},
     "output_type": "execute_result"
    }
   ],
   "source": [
    "True and True"
   ]
  },
  {
   "cell_type": "code",
   "execution_count": 2,
   "id": "f024e8cd-7c68-46b9-a821-5ac88089c768",
   "metadata": {},
   "outputs": [
    {
     "data": {
      "text/plain": [
       "False"
      ]
     },
     "execution_count": 2,
     "metadata": {},
     "output_type": "execute_result"
    }
   ],
   "source": [
    "True and False"
   ]
  },
  {
   "cell_type": "code",
   "execution_count": 5,
   "id": "2ef827b8-7d32-464a-80cc-5f1d7fa266e7",
   "metadata": {},
   "outputs": [
    {
     "name": "stdout",
     "output_type": "stream",
     "text": [
      "Define value of START=True\n",
      "Define value of STOP=False\n",
      "\n",
      "Defined value of START=True\n",
      "Value of STOP by negating START=False\n",
      "\n",
      "Value of START by negating STOP=True\n",
      "Defined value of STOP=False\n",
      "\n"
     ]
    }
   ],
   "source": [
    "#Let define two variables  having boolean values True and False\n",
    " \n",
    "START = True\n",
    "STOP = False\n",
    "\n",
    "#Print the value as it is\n",
    "\n",
    "print(f\"Define value of START={START}\")\n",
    "print(f\"Define value of STOP={STOP}\\n\")\n",
    "\n",
    "#If can also be written as\n",
    "print(f\"Defined value of START={START}\")\n",
    "print(f\"Value of STOP by negating START={not START}\\n\")\n",
    "\n",
    "#Alternative\n",
    "print(f\"Value of START by negating STOP={not STOP}\")\n",
    "print(f\"Defined value of STOP={STOP}\\n\")\n"
   ]
  },
  {
   "cell_type": "code",
   "execution_count": 7,
   "id": "2f24cf92-9401-47fc-a62f-4c355bb5101a",
   "metadata": {},
   "outputs": [
    {
     "data": {
      "text/plain": [
       "False"
      ]
     },
     "execution_count": 7,
     "metadata": {},
     "output_type": "execute_result"
    }
   ],
   "source": [
    "not True"
   ]
  },
  {
   "cell_type": "code",
   "execution_count": 8,
   "id": "f1578745-5cb7-4275-a67c-79ac18d62814",
   "metadata": {},
   "outputs": [
    {
     "data": {
      "text/plain": [
       "0"
      ]
     },
     "execution_count": 8,
     "metadata": {},
     "output_type": "execute_result"
    }
   ],
   "source": [
    "int(bool(0))"
   ]
  },
  {
   "cell_type": "code",
   "execution_count": 10,
   "id": "6db0b987-1204-4c54-8770-7e8355aacfeb",
   "metadata": {},
   "outputs": [
    {
     "data": {
      "text/plain": [
       "True"
      ]
     },
     "execution_count": 10,
     "metadata": {},
     "output_type": "execute_result"
    }
   ],
   "source": [
    "not int(bool(0))"
   ]
  },
  {
   "cell_type": "code",
   "execution_count": 11,
   "id": "c210c3f8-5638-46fd-a7de-9f6960a9eeaf",
   "metadata": {},
   "outputs": [
    {
     "data": {
      "text/plain": [
       "True"
      ]
     },
     "execution_count": 11,
     "metadata": {},
     "output_type": "execute_result"
    }
   ],
   "source": [
    "bool(1)"
   ]
  },
  {
   "cell_type": "code",
   "execution_count": 12,
   "id": "f699495a-5bba-49cf-80a8-0900201b746c",
   "metadata": {},
   "outputs": [
    {
     "data": {
      "text/plain": [
       "False"
      ]
     },
     "execution_count": 12,
     "metadata": {},
     "output_type": "execute_result"
    }
   ],
   "source": [
    "not bool(1)"
   ]
  },
  {
   "cell_type": "code",
   "execution_count": 13,
   "id": "ea89fd15-a5e3-4e70-bb01-a16ef88c860d",
   "metadata": {},
   "outputs": [
    {
     "data": {
      "text/plain": [
       "False"
      ]
     },
     "execution_count": 13,
     "metadata": {},
     "output_type": "execute_result"
    }
   ],
   "source": [
    "not 1"
   ]
  },
  {
   "cell_type": "code",
   "execution_count": 15,
   "id": "b7a24588-1b22-4f81-8493-7799f9f09c7a",
   "metadata": {},
   "outputs": [
    {
     "name": "stdout",
     "output_type": "stream",
     "text": [
      "Define value of START=1\n",
      "Define value of STOP=0\n",
      "\n",
      "Defined value of START=1\n",
      "Value of STOP by negating START=0\n",
      "\n",
      "Value of START by negating STOP=1\n",
      "Defined value of STOP=0\n",
      "\n"
     ]
    }
   ],
   "source": [
    "#Let define two variables  having boolean values True and False\n",
    " \n",
    "START = 1\n",
    "STOP = 0\n",
    "\n",
    "#Print the value as it is\n",
    "\n",
    "print(f\"Define value of START={START}\")\n",
    "print(f\"Define value of STOP={STOP}\\n\")\n",
    "\n",
    "#If can also be written as\n",
    "print(f\"Defined value of START={START}\")\n",
    "print(f\"Value of STOP by negating START={int(not START)}\\n\")\n",
    "\n",
    "#Alternative\n",
    "print(f\"Value of START by negating STOP={int(not STOP)}\")\n",
    "print(f\"Defined value of STOP={STOP}\\n\")\n"
   ]
  },
  {
   "cell_type": "code",
   "execution_count": 14,
   "id": "279991ee-6acc-4bbb-b6b4-a408380938f7",
   "metadata": {},
   "outputs": [
    {
     "data": {
      "text/plain": [
       "True"
      ]
     },
     "execution_count": 14,
     "metadata": {},
     "output_type": "execute_result"
    }
   ],
   "source": [
    "not 0"
   ]
  },
  {
   "cell_type": "markdown",
   "id": "4d37c620-283a-4cd5-a116-16cba53b3422",
   "metadata": {},
   "source": [
    "## LOGICAL AND"
   ]
  },
  {
   "cell_type": "code",
   "execution_count": 18,
   "id": "2ef45099-5f1f-4f50-a603-e6e874ac7cec",
   "metadata": {},
   "outputs": [
    {
     "name": "stdout",
     "output_type": "stream",
     "text": [
      "Dish contain VEGETABLE:True\n",
      "Dish contain SALT:False\n",
      "Hence dish prepared was good:False\n",
      "\n"
     ]
    }
   ],
   "source": [
    "VEGETABLE=True\n",
    "SALT=False\n",
    "DISH=VEGETABLE and SALT\n",
    "\n",
    "print(f\"Dish contain VEGETABLE:{VEGETABLE}\")\n",
    "print(f\"Dish contain SALT:{SALT}\")\n",
    "print(f\"Hence dish prepared was good:{DISH}\\n\")\n"
   ]
  },
  {
   "cell_type": "code",
   "execution_count": 19,
   "id": "bcb7a695-e539-47c5-9dba-35223d362609",
   "metadata": {},
   "outputs": [
    {
     "data": {
      "text/plain": [
       "0"
      ]
     },
     "execution_count": 19,
     "metadata": {},
     "output_type": "execute_result"
    }
   ],
   "source": [
    "True*False"
   ]
  },
  {
   "cell_type": "code",
   "execution_count": 20,
   "id": "d7f0eb8e-0448-4fec-8633-d27901e2d886",
   "metadata": {},
   "outputs": [
    {
     "data": {
      "text/plain": [
       "1"
      ]
     },
     "execution_count": 20,
     "metadata": {},
     "output_type": "execute_result"
    }
   ],
   "source": [
    "True*True"
   ]
  },
  {
   "cell_type": "code",
   "execution_count": 21,
   "id": "dbd9e77a-39c3-47f4-bf8f-c7fd2880dee0",
   "metadata": {},
   "outputs": [
    {
     "data": {
      "text/plain": [
       "0"
      ]
     },
     "execution_count": 21,
     "metadata": {},
     "output_type": "execute_result"
    }
   ],
   "source": [
    "False*True"
   ]
  },
  {
   "cell_type": "code",
   "execution_count": 22,
   "id": "4e060694-5270-4f6a-9be5-2be64e3bf608",
   "metadata": {},
   "outputs": [
    {
     "data": {
      "text/plain": [
       "True"
      ]
     },
     "execution_count": 22,
     "metadata": {},
     "output_type": "execute_result"
    }
   ],
   "source": [
    "not(True)*False"
   ]
  },
  {
   "cell_type": "code",
   "execution_count": 24,
   "id": "033f4924-92ce-498b-a33f-7d87b4fe4191",
   "metadata": {},
   "outputs": [
    {
     "data": {
      "text/plain": [
       "0"
      ]
     },
     "execution_count": 24,
     "metadata": {},
     "output_type": "execute_result"
    }
   ],
   "source": [
    "False*(not(False))"
   ]
  },
  {
   "cell_type": "code",
   "execution_count": 25,
   "id": "8b82f56d-d45a-4321-84e1-4a21bb6ec26a",
   "metadata": {},
   "outputs": [
    {
     "data": {
      "text/plain": [
       "True"
      ]
     },
     "execution_count": 25,
     "metadata": {},
     "output_type": "execute_result"
    }
   ],
   "source": [
    "not(False)*False==True"
   ]
  },
  {
   "cell_type": "code",
   "execution_count": 1,
   "id": "807753b8-d930-45a0-ba51-acbcdb94081c",
   "metadata": {},
   "outputs": [
    {
     "data": {
      "text/plain": [
       "True"
      ]
     },
     "execution_count": 1,
     "metadata": {},
     "output_type": "execute_result"
    }
   ],
   "source": [
    "not True*False==True"
   ]
  },
  {
   "cell_type": "code",
   "execution_count": 1,
   "id": "a44e9ec7-6873-4872-8e95-0bf86087fc49",
   "metadata": {},
   "outputs": [],
   "source": [
    "#Equality Operator\n",
    "Ist_a=[1,2,3,4]\n",
    "Ist_b=[1,2,3,4]"
   ]
  },
  {
   "cell_type": "code",
   "execution_count": 12,
   "id": "f9be5e1c-4352-4409-a125-1792723e7f81",
   "metadata": {},
   "outputs": [
    {
     "data": {
      "text/plain": [
       "140533144001856"
      ]
     },
     "execution_count": 12,
     "metadata": {},
     "output_type": "execute_result"
    }
   ],
   "source": [
    "id(Ist_a)"
   ]
  },
  {
   "cell_type": "code",
   "execution_count": 15,
   "id": "6cbaf13c-6f4b-442f-8b2a-b1ea7e59d5e6",
   "metadata": {},
   "outputs": [
    {
     "name": "stdout",
     "output_type": "stream",
     "text": [
      "140533144001856\n",
      "140533144040512\n"
     ]
    }
   ],
   "source": [
    "print(id(Ist_a))\n",
    "print(id(Ist_b))"
   ]
  },
  {
   "cell_type": "code",
   "execution_count": 18,
   "id": "b14e838d-aedc-43a0-bb73-018381e5f630",
   "metadata": {},
   "outputs": [
    {
     "data": {
      "text/plain": [
       "True"
      ]
     },
     "execution_count": 18,
     "metadata": {},
     "output_type": "execute_result"
    }
   ],
   "source": [
    "Ist_a is Ist_b"
   ]
  },
  {
   "cell_type": "code",
   "execution_count": 19,
   "id": "42d16223-75b0-4934-acf2-30fa68dc6147",
   "metadata": {},
   "outputs": [
    {
     "data": {
      "text/plain": [
       "True"
      ]
     },
     "execution_count": 19,
     "metadata": {},
     "output_type": "execute_result"
    }
   ],
   "source": [
    "Ist_a==Ist_b"
   ]
  },
  {
   "cell_type": "code",
   "execution_count": 22,
   "id": "0bc6972e-14df-4311-ac96-9a4fe4263642",
   "metadata": {},
   "outputs": [],
   "source": [
    "a=1\n",
    "b=1"
   ]
  },
  {
   "cell_type": "code",
   "execution_count": 23,
   "id": "03a27376-fcf6-4d9e-8cfa-112ac9b862ab",
   "metadata": {},
   "outputs": [
    {
     "name": "stdout",
     "output_type": "stream",
     "text": [
      "140533256945904\n",
      "140533256945904\n"
     ]
    }
   ],
   "source": [
    "print(id(a))\n",
    "      \n",
    "print(id(b))      "
   ]
  },
  {
   "cell_type": "code",
   "execution_count": 24,
   "id": "e0e15176-0950-425d-a38f-924adf533742",
   "metadata": {},
   "outputs": [
    {
     "data": {
      "text/plain": [
       "[1, 2, 3, 4]"
      ]
     },
     "execution_count": 24,
     "metadata": {},
     "output_type": "execute_result"
    }
   ],
   "source": [
    "Ist_a"
   ]
  },
  {
   "cell_type": "code",
   "execution_count": 25,
   "id": "8286b5ab-4a04-4983-b3db-288f2647adb0",
   "metadata": {},
   "outputs": [
    {
     "data": {
      "text/plain": [
       "1"
      ]
     },
     "execution_count": 25,
     "metadata": {},
     "output_type": "execute_result"
    }
   ],
   "source": [
    "Ist_a[0]"
   ]
  },
  {
   "cell_type": "code",
   "execution_count": 30,
   "id": "d9ba3989-3208-45ad-a706-2bd131cdccf5",
   "metadata": {},
   "outputs": [],
   "source": [
    "Ist_a[0]=10"
   ]
  },
  {
   "cell_type": "code",
   "execution_count": 31,
   "id": "4f6663df-cf9e-4c18-b19f-5b233e5a4637",
   "metadata": {},
   "outputs": [
    {
     "data": {
      "text/plain": [
       "[10, 2, 3, 4]"
      ]
     },
     "execution_count": 31,
     "metadata": {},
     "output_type": "execute_result"
    }
   ],
   "source": [
    "Ist_a"
   ]
  },
  {
   "cell_type": "code",
   "execution_count": null,
   "id": "1f89fcaf-05cf-4e6c-902f-5a5646a1dcb0",
   "metadata": {},
   "outputs": [],
   "source": [
    "# Comparison Operation"
   ]
  },
  {
   "cell_type": "code",
   "execution_count": 38,
   "id": "eda34b09-d3d6-4e70-b7c4-a6df8599a258",
   "metadata": {},
   "outputs": [
    {
     "name": "stdout",
     "output_type": "stream",
     "text": [
      "bike is faster than car:False\n"
     ]
    }
   ],
   "source": [
    "maximum_speed_of_bike=150\n",
    "max_speed_of_car=200\n",
    "print(f\"bike is faster than car:{maximum_speed_of_bike > max_speed_of_car}\")"
   ]
  },
  {
   "cell_type": "markdown",
   "id": "931ee8cb-fac7-47d2-b12f-a8bf27ff09cd",
   "metadata": {},
   "source": [
    "## Arithmetic Operations"
   ]
  },
  {
   "cell_type": "code",
   "execution_count": 4,
   "id": "e884015f-9bc5-45cf-a50d-65ba4b43e0bb",
   "metadata": {},
   "outputs": [],
   "source": [
    "a=25\n",
    "b=104"
   ]
  },
  {
   "cell_type": "code",
   "execution_count": 41,
   "id": "8b048d77-355b-4edc-87e3-3fefde041790",
   "metadata": {},
   "outputs": [
    {
     "data": {
      "text/plain": [
       "2600"
      ]
     },
     "execution_count": 41,
     "metadata": {},
     "output_type": "execute_result"
    }
   ],
   "source": [
    "a*b"
   ]
  },
  {
   "cell_type": "code",
   "execution_count": 42,
   "id": "ef601279-0ffb-405c-ba01-de774f11217e",
   "metadata": {},
   "outputs": [
    {
     "data": {
      "text/plain": [
       "129"
      ]
     },
     "execution_count": 42,
     "metadata": {},
     "output_type": "execute_result"
    }
   ],
   "source": [
    "a+b"
   ]
  },
  {
   "cell_type": "code",
   "execution_count": 43,
   "id": "c3a47b76-6b32-4a71-8413-d37d501b7d5f",
   "metadata": {},
   "outputs": [
    {
     "data": {
      "text/plain": [
       "0.2403846153846154"
      ]
     },
     "execution_count": 43,
     "metadata": {},
     "output_type": "execute_result"
    }
   ],
   "source": [
    "a/b"
   ]
  },
  {
   "cell_type": "code",
   "execution_count": 44,
   "id": "fb8e20c4-f92d-45a1-958a-012dbc3e2abb",
   "metadata": {},
   "outputs": [
    {
     "data": {
      "text/plain": [
       "4.16"
      ]
     },
     "execution_count": 44,
     "metadata": {},
     "output_type": "execute_result"
    }
   ],
   "source": [
    "b/a"
   ]
  },
  {
   "cell_type": "code",
   "execution_count": 45,
   "id": "8becd681-2667-48e9-8911-ef2bfd963de8",
   "metadata": {},
   "outputs": [
    {
     "data": {
      "text/plain": [
       "25"
      ]
     },
     "execution_count": 45,
     "metadata": {},
     "output_type": "execute_result"
    }
   ],
   "source": [
    "a%b"
   ]
  },
  {
   "cell_type": "code",
   "execution_count": 46,
   "id": "eeb618c8-64e7-4ff2-827a-dddfb5551b36",
   "metadata": {},
   "outputs": [
    {
     "data": {
      "text/plain": [
       "4"
      ]
     },
     "execution_count": 46,
     "metadata": {},
     "output_type": "execute_result"
    }
   ],
   "source": [
    "b%a"
   ]
  },
  {
   "cell_type": "code",
   "execution_count": 5,
   "id": "d9bfa765-a1cc-403b-8581-98f7d46130a5",
   "metadata": {},
   "outputs": [
    {
     "data": {
      "text/plain": [
       "0"
      ]
     },
     "execution_count": 5,
     "metadata": {},
     "output_type": "execute_result"
    }
   ],
   "source": [
    "a//b"
   ]
  },
  {
   "cell_type": "code",
   "execution_count": 6,
   "id": "f892acf4-eae6-42c7-97ad-47cad2a318ab",
   "metadata": {},
   "outputs": [
    {
     "data": {
      "text/plain": [
       "4"
      ]
     },
     "execution_count": 6,
     "metadata": {},
     "output_type": "execute_result"
    }
   ],
   "source": [
    "b//a"
   ]
  },
  {
   "cell_type": "code",
   "execution_count": 7,
   "id": "73f6a10f-4e69-4a83-9114-706f7af302a9",
   "metadata": {},
   "outputs": [
    {
     "data": {
      "text/plain": [
       "'0b1010'"
      ]
     },
     "execution_count": 7,
     "metadata": {},
     "output_type": "execute_result"
    }
   ],
   "source": [
    "var=10\n",
    "bin(var)"
   ]
  },
  {
   "cell_type": "code",
   "execution_count": 8,
   "id": "877fdbe8-c0ec-4fe7-b7c7-6cb8471e6398",
   "metadata": {},
   "outputs": [
    {
     "data": {
      "text/plain": [
       "True"
      ]
     },
     "execution_count": 8,
     "metadata": {},
     "output_type": "execute_result"
    }
   ],
   "source": [
    "True|False"
   ]
  },
  {
   "cell_type": "code",
   "execution_count": 9,
   "id": "f38ced18-7b47-49b2-bbdb-ef699716d869",
   "metadata": {},
   "outputs": [
    {
     "data": {
      "text/plain": [
       "False"
      ]
     },
     "execution_count": 9,
     "metadata": {},
     "output_type": "execute_result"
    }
   ],
   "source": [
    "False&False"
   ]
  },
  {
   "cell_type": "markdown",
   "id": "448b6fae-6c57-42d4-8482-e171f143bff6",
   "metadata": {},
   "source": [
    "## Strings"
   ]
  },
  {
   "cell_type": "code",
   "execution_count": 13,
   "id": "a2017db9-23ff-428e-852d-7f2f293dffb7",
   "metadata": {},
   "outputs": [
    {
     "data": {
      "text/plain": [
       "'Welcome to the Data Science master'"
      ]
     },
     "execution_count": 13,
     "metadata": {},
     "output_type": "execute_result"
    }
   ],
   "source": [
    "\"Welcome to the Data Science master\""
   ]
  },
  {
   "cell_type": "code",
   "execution_count": 1,
   "id": "8fc427e6-d1b9-4899-b52b-0c2f1041b1e6",
   "metadata": {},
   "outputs": [],
   "source": [
    "Str1=\"Welcome to the Data Science Master\""
   ]
  },
  {
   "cell_type": "code",
   "execution_count": 2,
   "id": "6fc41b8e-761d-4bfd-aeb6-8f2928aac68f",
   "metadata": {},
   "outputs": [
    {
     "data": {
      "text/plain": [
       "str"
      ]
     },
     "execution_count": 2,
     "metadata": {},
     "output_type": "execute_result"
    }
   ],
   "source": [
    "type(Str1)"
   ]
  },
  {
   "cell_type": "code",
   "execution_count": 3,
   "id": "f93e4684-9adf-4280-8b65-50dd0b8018c1",
   "metadata": {},
   "outputs": [],
   "source": [
    "Str1=\"krish Naik\""
   ]
  },
  {
   "cell_type": "code",
   "execution_count": 4,
   "id": "337b47b8-1ec7-4f42-8b6f-ac4f045c07a2",
   "metadata": {},
   "outputs": [
    {
     "data": {
      "text/plain": [
       "'krish Naik'"
      ]
     },
     "execution_count": 4,
     "metadata": {},
     "output_type": "execute_result"
    }
   ],
   "source": [
    "Str1"
   ]
  },
  {
   "cell_type": "code",
   "execution_count": 6,
   "id": "bba58659-b6e3-4dc5-ba7e-c5e389309701",
   "metadata": {},
   "outputs": [],
   "source": [
    "welcome=\"Hello World\""
   ]
  },
  {
   "cell_type": "code",
   "execution_count": 7,
   "id": "5fc396de-24d5-43be-a5e6-12c29f63face",
   "metadata": {},
   "outputs": [
    {
     "data": {
      "text/plain": [
       "['__add__',\n",
       " '__class__',\n",
       " '__contains__',\n",
       " '__delattr__',\n",
       " '__dir__',\n",
       " '__doc__',\n",
       " '__eq__',\n",
       " '__format__',\n",
       " '__ge__',\n",
       " '__getattribute__',\n",
       " '__getitem__',\n",
       " '__getnewargs__',\n",
       " '__gt__',\n",
       " '__hash__',\n",
       " '__init__',\n",
       " '__init_subclass__',\n",
       " '__iter__',\n",
       " '__le__',\n",
       " '__len__',\n",
       " '__lt__',\n",
       " '__mod__',\n",
       " '__mul__',\n",
       " '__ne__',\n",
       " '__new__',\n",
       " '__reduce__',\n",
       " '__reduce_ex__',\n",
       " '__repr__',\n",
       " '__rmod__',\n",
       " '__rmul__',\n",
       " '__setattr__',\n",
       " '__sizeof__',\n",
       " '__str__',\n",
       " '__subclasshook__',\n",
       " 'capitalize',\n",
       " 'casefold',\n",
       " 'center',\n",
       " 'count',\n",
       " 'encode',\n",
       " 'endswith',\n",
       " 'expandtabs',\n",
       " 'find',\n",
       " 'format',\n",
       " 'format_map',\n",
       " 'index',\n",
       " 'isalnum',\n",
       " 'isalpha',\n",
       " 'isascii',\n",
       " 'isdecimal',\n",
       " 'isdigit',\n",
       " 'isidentifier',\n",
       " 'islower',\n",
       " 'isnumeric',\n",
       " 'isprintable',\n",
       " 'isspace',\n",
       " 'istitle',\n",
       " 'isupper',\n",
       " 'join',\n",
       " 'ljust',\n",
       " 'lower',\n",
       " 'lstrip',\n",
       " 'maketrans',\n",
       " 'partition',\n",
       " 'removeprefix',\n",
       " 'removesuffix',\n",
       " 'replace',\n",
       " 'rfind',\n",
       " 'rindex',\n",
       " 'rjust',\n",
       " 'rpartition',\n",
       " 'rsplit',\n",
       " 'rstrip',\n",
       " 'split',\n",
       " 'splitlines',\n",
       " 'startswith',\n",
       " 'strip',\n",
       " 'swapcase',\n",
       " 'title',\n",
       " 'translate',\n",
       " 'upper',\n",
       " 'zfill']"
      ]
     },
     "execution_count": 7,
     "metadata": {},
     "output_type": "execute_result"
    }
   ],
   "source": [
    "dir(welcome)"
   ]
  },
  {
   "cell_type": "code",
   "execution_count": 8,
   "id": "90165309-4597-4e85-82f0-9c1d291656d4",
   "metadata": {},
   "outputs": [],
   "source": [
    "string=\"Pw Skills Data Science\""
   ]
  },
  {
   "cell_type": "code",
   "execution_count": 9,
   "id": "5274b8e0-39da-4006-b769-a93a128a03b8",
   "metadata": {},
   "outputs": [
    {
     "data": {
      "text/plain": [
       "'i'"
      ]
     },
     "execution_count": 9,
     "metadata": {},
     "output_type": "execute_result"
    }
   ],
   "source": [
    "string[5]"
   ]
  },
  {
   "cell_type": "code",
   "execution_count": 12,
   "id": "855571e8-d7a5-4612-94c5-aafcdf72a04c",
   "metadata": {},
   "outputs": [
    {
     "data": {
      "text/plain": [
       "'ills Data Science'"
      ]
     },
     "execution_count": 12,
     "metadata": {},
     "output_type": "execute_result"
    }
   ],
   "source": [
    "#Slice operation\n",
    "string[5:]"
   ]
  },
  {
   "cell_type": "code",
   "execution_count": 13,
   "id": "7b4a54a1-bab3-455b-a946-a644d7dcb911",
   "metadata": {},
   "outputs": [
    {
     "data": {
      "text/plain": [
       "'ills D'"
      ]
     },
     "execution_count": 13,
     "metadata": {},
     "output_type": "execute_result"
    }
   ],
   "source": [
    "string[5:11]"
   ]
  },
  {
   "cell_type": "code",
   "execution_count": 14,
   "id": "8a0b9a02-87c0-4014-8a76-0b430b87e60f",
   "metadata": {},
   "outputs": [
    {
     "data": {
      "text/plain": [
       "'e'"
      ]
     },
     "execution_count": 14,
     "metadata": {},
     "output_type": "execute_result"
    }
   ],
   "source": [
    "string[-1]"
   ]
  },
  {
   "cell_type": "code",
   "execution_count": 15,
   "id": "80069319-c058-447f-b7dc-3d064bdff8ed",
   "metadata": {},
   "outputs": [
    {
     "data": {
      "text/plain": [
       "'nce'"
      ]
     },
     "execution_count": 15,
     "metadata": {},
     "output_type": "execute_result"
    }
   ],
   "source": [
    "string[-3:]"
   ]
  },
  {
   "cell_type": "code",
   "execution_count": 16,
   "id": "455607b7-abad-4670-871e-0ff906e35d6f",
   "metadata": {},
   "outputs": [
    {
     "data": {
      "text/plain": [
       "'Sc'"
      ]
     },
     "execution_count": 16,
     "metadata": {},
     "output_type": "execute_result"
    }
   ],
   "source": [
    "string[-7:-5]"
   ]
  },
  {
   "cell_type": "code",
   "execution_count": 17,
   "id": "3f520c03-7c45-4032-a260-f7301c3fce8f",
   "metadata": {},
   "outputs": [
    {
     "data": {
      "text/plain": [
       "'Pw Skills Data Scienc'"
      ]
     },
     "execution_count": 17,
     "metadata": {},
     "output_type": "execute_result"
    }
   ],
   "source": [
    "string[:-1]"
   ]
  },
  {
   "cell_type": "code",
   "execution_count": 18,
   "id": "d616b44d-9ce9-4e4f-9d5f-ec7e6b398264",
   "metadata": {},
   "outputs": [
    {
     "data": {
      "text/plain": [
       "'Pw Skills Data Science'"
      ]
     },
     "execution_count": 18,
     "metadata": {},
     "output_type": "execute_result"
    }
   ],
   "source": [
    "string[:]"
   ]
  },
  {
   "cell_type": "code",
   "execution_count": 21,
   "id": "389ebc17-518a-4c51-93e0-5c61c121db2b",
   "metadata": {},
   "outputs": [
    {
     "data": {
      "text/plain": [
       "'rt'"
      ]
     },
     "execution_count": 21,
     "metadata": {},
     "output_type": "execute_result"
    }
   ],
   "source": [
    "name=\"Karthik\"\n",
    "name[-5:4]"
   ]
  },
  {
   "cell_type": "code",
   "execution_count": 22,
   "id": "d83232f6-9b37-4213-beec-c94c3320c4ee",
   "metadata": {},
   "outputs": [
    {
     "data": {
      "text/plain": [
       "'Pw Skills Data Science'"
      ]
     },
     "execution_count": 22,
     "metadata": {},
     "output_type": "execute_result"
    }
   ],
   "source": [
    "string"
   ]
  },
  {
   "cell_type": "code",
   "execution_count": 24,
   "id": "2ad58523-17aa-4ead-b233-cae7f7d69ccc",
   "metadata": {},
   "outputs": [
    {
     "data": {
      "text/plain": [
       "'Pw Skills Data Science'"
      ]
     },
     "execution_count": 24,
     "metadata": {},
     "output_type": "execute_result"
    }
   ],
   "source": [
    "string[::]"
   ]
  },
  {
   "cell_type": "code",
   "execution_count": 25,
   "id": "28bc3fd9-0d13-41f6-b69f-71d30841d8f8",
   "metadata": {},
   "outputs": [
    {
     "data": {
      "text/plain": [
       "'ecneicS ataD sllikS wP'"
      ]
     },
     "execution_count": 25,
     "metadata": {},
     "output_type": "execute_result"
    }
   ],
   "source": [
    "string[::-1]"
   ]
  },
  {
   "cell_type": "code",
   "execution_count": 26,
   "id": "b22af5f0-cad2-4cab-9ee8-a9fafe3ac01f",
   "metadata": {},
   "outputs": [
    {
     "data": {
      "text/plain": [
       "'eniSaa liSw'"
      ]
     },
     "execution_count": 26,
     "metadata": {},
     "output_type": "execute_result"
    }
   ],
   "source": [
    "string[::-2]"
   ]
  },
  {
   "cell_type": "code",
   "execution_count": 27,
   "id": "3fbcd72d-f4e4-493b-bdd6-b5d662f34d52",
   "metadata": {},
   "outputs": [
    {
     "data": {
      "text/plain": [
       "'eeSt lSP'"
      ]
     },
     "execution_count": 27,
     "metadata": {},
     "output_type": "execute_result"
    }
   ],
   "source": [
    "string[::-3]"
   ]
  },
  {
   "cell_type": "code",
   "execution_count": 28,
   "id": "4ec203a2-45ab-4835-abc7-18c9fb5c0cbb",
   "metadata": {},
   "outputs": [
    {
     "data": {
      "text/plain": [
       "'PiDSc'"
      ]
     },
     "execution_count": 28,
     "metadata": {},
     "output_type": "execute_result"
    }
   ],
   "source": [
    "string[::5]"
   ]
  },
  {
   "cell_type": "code",
   "execution_count": 29,
   "id": "1183f2f8-1e0a-413f-9ee8-ff8893ba017f",
   "metadata": {},
   "outputs": [
    {
     "data": {
      "text/plain": [
       "'PSl tSee'"
      ]
     },
     "execution_count": 29,
     "metadata": {},
     "output_type": "execute_result"
    }
   ],
   "source": [
    "string[::3]"
   ]
  },
  {
   "cell_type": "code",
   "execution_count": 30,
   "id": "ca009128-196f-49f3-90fd-43049aba7a3a",
   "metadata": {},
   "outputs": [],
   "source": [
    "name=\"krish\""
   ]
  },
  {
   "cell_type": "code",
   "execution_count": 31,
   "id": "090c136c-ed8b-422b-bd8b-778dea637a3e",
   "metadata": {},
   "outputs": [
    {
     "data": {
      "text/plain": [
       "'krish'"
      ]
     },
     "execution_count": 31,
     "metadata": {},
     "output_type": "execute_result"
    }
   ],
   "source": [
    "name"
   ]
  },
  {
   "cell_type": "code",
   "execution_count": 32,
   "id": "17157c06-33ff-41a1-99e4-308ce40051ec",
   "metadata": {},
   "outputs": [
    {
     "data": {
      "text/plain": [
       "'hsirk'"
      ]
     },
     "execution_count": 32,
     "metadata": {},
     "output_type": "execute_result"
    }
   ],
   "source": [
    "name[::-1]"
   ]
  },
  {
   "cell_type": "code",
   "execution_count": 33,
   "id": "5ce803bf-5792-4e83-9aba-edc61c28bc93",
   "metadata": {},
   "outputs": [
    {
     "data": {
      "text/plain": [
       "'kih'"
      ]
     },
     "execution_count": 33,
     "metadata": {},
     "output_type": "execute_result"
    }
   ],
   "source": [
    "name[::2]"
   ]
  },
  {
   "cell_type": "code",
   "execution_count": 34,
   "id": "9f045936-87c3-404e-87b8-dc7927f68d7e",
   "metadata": {},
   "outputs": [
    {
     "data": {
      "text/plain": [
       "'hsirk'"
      ]
     },
     "execution_count": 34,
     "metadata": {},
     "output_type": "execute_result"
    }
   ],
   "source": [
    "name[::-1]"
   ]
  },
  {
   "cell_type": "code",
   "execution_count": 35,
   "id": "fdfa6213-7a21-4521-9e03-bdbd0bae96fd",
   "metadata": {},
   "outputs": [
    {
     "data": {
      "text/plain": [
       "'hik'"
      ]
     },
     "execution_count": 35,
     "metadata": {},
     "output_type": "execute_result"
    }
   ],
   "source": [
    "name[::-2]"
   ]
  },
  {
   "cell_type": "code",
   "execution_count": 36,
   "id": "9e672410-4c16-44df-8744-612f7be15a3a",
   "metadata": {},
   "outputs": [
    {
     "data": {
      "text/plain": [
       "'hr'"
      ]
     },
     "execution_count": 36,
     "metadata": {},
     "output_type": "execute_result"
    }
   ],
   "source": [
    "name[::-3]"
   ]
  },
  {
   "cell_type": "code",
   "execution_count": 37,
   "id": "eaae2dc0-378b-467d-b049-18c53903d266",
   "metadata": {},
   "outputs": [
    {
     "data": {
      "text/plain": [
       "'sirk'"
      ]
     },
     "execution_count": 37,
     "metadata": {},
     "output_type": "execute_result"
    }
   ],
   "source": [
    "name[3::-1]"
   ]
  },
  {
   "cell_type": "code",
   "execution_count": 38,
   "id": "56534a5f-5439-4e91-bc1d-e1a0a2cedab9",
   "metadata": {},
   "outputs": [
    {
     "data": {
      "text/plain": [
       "'si'"
      ]
     },
     "execution_count": 38,
     "metadata": {},
     "output_type": "execute_result"
    }
   ],
   "source": [
    "name[3:1:-1]"
   ]
  },
  {
   "cell_type": "code",
   "execution_count": 6,
   "id": "74f336b4-6748-4da6-b98c-f32567b2eaa3",
   "metadata": {},
   "outputs": [],
   "source": [
    "course_name=\"Data Science Master\""
   ]
  },
  {
   "cell_type": "code",
   "execution_count": null,
   "id": "4c81cc7a-ecad-49e3-b433-493e5cfd0092",
   "metadata": {},
   "outputs": [],
   "source": [
    "course_name[5:12]"
   ]
  },
  {
   "cell_type": "code",
   "execution_count": 43,
   "id": "9375a49f-c1a6-45a1-841e-cc72bd48385c",
   "metadata": {},
   "outputs": [
    {
     "data": {
      "text/plain": [
       "' ecneicS'"
      ]
     },
     "execution_count": 43,
     "metadata": {},
     "output_type": "execute_result"
    }
   ],
   "source": [
    "course_name[12:4:-1]"
   ]
  },
  {
   "cell_type": "code",
   "execution_count": 6,
   "id": "6e67c1e0-ea8e-4d57-9a50-3b18ceb51767",
   "metadata": {},
   "outputs": [
    {
     "data": {
      "text/plain": [
       "'Data Science Mastercourse'"
      ]
     },
     "execution_count": 6,
     "metadata": {},
     "output_type": "execute_result"
    }
   ],
   "source": [
    "#Concatenation\n",
    "course_name +  \"course\""
   ]
  },
  {
   "cell_type": "code",
   "execution_count": 7,
   "id": "8ab49567-d97b-4e05-b23f-982f30eb8442",
   "metadata": {},
   "outputs": [
    {
     "name": "stdout",
     "output_type": "stream",
     "text": [
      "HelloWorld\n"
     ]
    }
   ],
   "source": [
    "print(\"Hello\" + \"World\")"
   ]
  },
  {
   "cell_type": "code",
   "execution_count": 8,
   "id": "4f7a0f8d-c58b-4bc4-8989-f64c6b92cafb",
   "metadata": {},
   "outputs": [
    {
     "data": {
      "text/plain": [
       "'Data Science MasterData Science MasterData Science MasterData Science MasterData Science Master'"
      ]
     },
     "execution_count": 8,
     "metadata": {},
     "output_type": "execute_result"
    }
   ],
   "source": [
    "course_name*5\n"
   ]
  },
  {
   "cell_type": "code",
   "execution_count": 9,
   "id": "c37d9824-9ba9-421e-8785-61a064583161",
   "metadata": {},
   "outputs": [
    {
     "data": {
      "text/plain": [
       "19"
      ]
     },
     "execution_count": 9,
     "metadata": {},
     "output_type": "execute_result"
    }
   ],
   "source": [
    "len(course_name)"
   ]
  },
  {
   "cell_type": "code",
   "execution_count": 14,
   "id": "d0dc23f5-3479-4551-9933-880f0a33e5ec",
   "metadata": {},
   "outputs": [
    {
     "data": {
      "text/plain": [
       "9"
      ]
     },
     "execution_count": 14,
     "metadata": {},
     "output_type": "execute_result"
    }
   ],
   "source": [
    "# find function\n",
    "course_name.find(\"n\")"
   ]
  },
  {
   "cell_type": "code",
   "execution_count": 15,
   "id": "091fe325-3260-4177-9063-c54532a2f39a",
   "metadata": {},
   "outputs": [
    {
     "data": {
      "text/plain": [
       "1"
      ]
     },
     "execution_count": 15,
     "metadata": {},
     "output_type": "execute_result"
    }
   ],
   "source": [
    "course_name.find(\"a\")"
   ]
  },
  {
   "cell_type": "code",
   "execution_count": 16,
   "id": "04c1c61c-8a41-43b8-9129-1f5d9c0ad86a",
   "metadata": {},
   "outputs": [
    {
     "data": {
      "text/plain": [
       "3"
      ]
     },
     "execution_count": 16,
     "metadata": {},
     "output_type": "execute_result"
    }
   ],
   "source": [
    "course_name.find(\"a\",2,10)"
   ]
  },
  {
   "cell_type": "code",
   "execution_count": 17,
   "id": "53979ceb-b531-4e9a-bda3-0d7eb660ea84",
   "metadata": {},
   "outputs": [
    {
     "data": {
      "text/plain": [
       "7"
      ]
     },
     "execution_count": 17,
     "metadata": {},
     "output_type": "execute_result"
    }
   ],
   "source": [
    "course_name.find(\"i\")"
   ]
  },
  {
   "cell_type": "code",
   "execution_count": 18,
   "id": "4a02363e-3966-4165-bc83-9605cca2139d",
   "metadata": {},
   "outputs": [
    {
     "data": {
      "text/plain": [
       "-1"
      ]
     },
     "execution_count": 18,
     "metadata": {},
     "output_type": "execute_result"
    }
   ],
   "source": [
    "course_name.find(\"z\")"
   ]
  },
  {
   "cell_type": "code",
   "execution_count": 7,
   "id": "7929e5a2-565c-4028-a487-f7b848033a05",
   "metadata": {},
   "outputs": [
    {
     "data": {
      "text/plain": [
       "20"
      ]
     },
     "execution_count": 7,
     "metadata": {},
     "output_type": "execute_result"
    }
   ],
   "source": [
    "course_name.count('')\n"
   ]
  },
  {
   "cell_type": "code",
   "execution_count": 8,
   "id": "d3d88e78-232d-4133-940a-b5f24cc71255",
   "metadata": {},
   "outputs": [
    {
     "data": {
      "text/plain": [
       "3"
      ]
     },
     "execution_count": 8,
     "metadata": {},
     "output_type": "execute_result"
    }
   ],
   "source": [
    "course_name.find(\"a\",2,10)"
   ]
  },
  {
   "cell_type": "code",
   "execution_count": 9,
   "id": "7374eea8-e7a6-4896-a4b7-998ed7585c6f",
   "metadata": {},
   "outputs": [],
   "source": [
    "#string split function"
   ]
  },
  {
   "cell_type": "code",
   "execution_count": 11,
   "id": "763376e4-b552-4736-83d8-73ad036f939b",
   "metadata": {},
   "outputs": [
    {
     "data": {
      "text/plain": [
       "['Data', 'Science', 'Master']"
      ]
     },
     "execution_count": 11,
     "metadata": {},
     "output_type": "execute_result"
    }
   ],
   "source": [
    "course_name.split(' ')"
   ]
  },
  {
   "cell_type": "code",
   "execution_count": 12,
   "id": "3e6a4885-e901-48c0-adda-c0f73fdacf9b",
   "metadata": {},
   "outputs": [
    {
     "data": {
      "text/plain": [
       "['Data ', 'cience Master']"
      ]
     },
     "execution_count": 12,
     "metadata": {},
     "output_type": "execute_result"
    }
   ],
   "source": [
    "course_name.split('S')"
   ]
  },
  {
   "cell_type": "code",
   "execution_count": 13,
   "id": "1c13ca91-de5e-4b85-ab15-86ec7470406a",
   "metadata": {},
   "outputs": [
    {
     "data": {
      "text/plain": [
       "('Data ', 'S', 'cience Master')"
      ]
     },
     "execution_count": 13,
     "metadata": {},
     "output_type": "execute_result"
    }
   ],
   "source": [
    "course_name.partition('S')"
   ]
  },
  {
   "cell_type": "code",
   "execution_count": 15,
   "id": "16d55775-c553-48e7-ae67-fd2b6a988c89",
   "metadata": {},
   "outputs": [
    {
     "data": {
      "text/plain": [
       "'DATA SCIENCE MASTER'"
      ]
     },
     "execution_count": 15,
     "metadata": {},
     "output_type": "execute_result"
    }
   ],
   "source": [
    "# string upper and lowercase\n",
    "course_name.upper()"
   ]
  },
  {
   "cell_type": "code",
   "execution_count": 16,
   "id": "b6de3aca-f4a8-4da0-ad4a-085041732152",
   "metadata": {},
   "outputs": [
    {
     "data": {
      "text/plain": [
       "'data science master'"
      ]
     },
     "execution_count": 16,
     "metadata": {},
     "output_type": "execute_result"
    }
   ],
   "source": [
    "course_name.lower()"
   ]
  },
  {
   "cell_type": "code",
   "execution_count": 17,
   "id": "4457b9de-4dad-4802-98cc-6ca4059ce881",
   "metadata": {},
   "outputs": [
    {
     "data": {
      "text/plain": [
       "'dATA sCIENCE mASTER'"
      ]
     },
     "execution_count": 17,
     "metadata": {},
     "output_type": "execute_result"
    }
   ],
   "source": [
    "course_name.swapcase()"
   ]
  },
  {
   "cell_type": "code",
   "execution_count": 18,
   "id": "507b04ed-f593-4af4-a335-1ea5836e831b",
   "metadata": {},
   "outputs": [
    {
     "data": {
      "text/plain": [
       "'Data Science Master'"
      ]
     },
     "execution_count": 18,
     "metadata": {},
     "output_type": "execute_result"
    }
   ],
   "source": [
    "course_name.title()"
   ]
  },
  {
   "cell_type": "code",
   "execution_count": 19,
   "id": "c1ff0d7b-7161-4831-bdca-b9b9071d3f5a",
   "metadata": {},
   "outputs": [
    {
     "name": "stdin",
     "output_type": "stream",
     "text": [
      "Enter the triangle length 9\n"
     ]
    },
    {
     "name": "stdout",
     "output_type": "stream",
     "text": [
      "         * \n",
      "        * * \n",
      "       * * * * \n",
      "      * * * * * * \n",
      "     * * * * * * * * \n",
      "    * * * * * * * * * * \n",
      "   * * * * * * * * * * * * \n",
      "  * * * * * * * * * * * * * * \n",
      " * * * * * * * * * * * * * * * * \n"
     ]
    }
   ],
   "source": [
    "size=int(input(\"Enter the triangle length\"))\n",
    "for i in range(size):\n",
    "    for j in range(size-i):\n",
    "        print(\"\",end=\" \")\n",
    "    for k in range(i+1):\n",
    "        print(\"*\",end=\" \")\n",
    "    for m in range(k-1):\n",
    "        print(\"*\",end=\" \")\n",
    "    print( )"
   ]
  },
  {
   "cell_type": "code",
   "execution_count": null,
   "id": "5bd07821-c30e-40f7-9207-7d77b1683c97",
   "metadata": {},
   "outputs": [],
   "source": []
  },
  {
   "cell_type": "code",
   "execution_count": null,
   "id": "090efb84-05b7-4855-8d2e-b5ac3c6d4467",
   "metadata": {},
   "outputs": [],
   "source": []
  }
 ],
 "metadata": {
  "kernelspec": {
   "display_name": "Python 3 (ipykernel)",
   "language": "python",
   "name": "python3"
  },
  "language_info": {
   "codemirror_mode": {
    "name": "ipython",
    "version": 3
   },
   "file_extension": ".py",
   "mimetype": "text/x-python",
   "name": "python",
   "nbconvert_exporter": "python",
   "pygments_lexer": "ipython3",
   "version": "3.10.8"
  }
 },
 "nbformat": 4,
 "nbformat_minor": 5
}
