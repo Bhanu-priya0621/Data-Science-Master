{
 "cells": [
  {
   "cell_type": "code",
   "execution_count": 1,
   "id": "6ac4ea9e-3774-4536-8302-021698156476",
   "metadata": {},
   "outputs": [],
   "source": [
    "d={}"
   ]
  },
  {
   "cell_type": "code",
   "execution_count": 2,
   "id": "435d04e6-226e-4be3-a42c-6ca2399ce022",
   "metadata": {},
   "outputs": [
    {
     "data": {
      "text/plain": [
       "dict"
      ]
     },
     "execution_count": 2,
     "metadata": {},
     "output_type": "execute_result"
    }
   ],
   "source": [
    "type(d)"
   ]
  },
  {
   "cell_type": "code",
   "execution_count": 3,
   "id": "70d38d48-053b-4059-802c-f11ed0dcd1ae",
   "metadata": {},
   "outputs": [],
   "source": [
    "d1= {\"name\" : \"sudha\" , \"email_id\" : \"ss@gmail.com\" , \"number\" : 234324}"
   ]
  },
  {
   "cell_type": "code",
   "execution_count": 4,
   "id": "88d27c22-819f-4e07-af05-276566ab8602",
   "metadata": {},
   "outputs": [
    {
     "data": {
      "text/plain": [
       "dict"
      ]
     },
     "execution_count": 4,
     "metadata": {},
     "output_type": "execute_result"
    }
   ],
   "source": [
    "type(d1)"
   ]
  },
  {
   "cell_type": "code",
   "execution_count": 5,
   "id": "17db6214-2fcc-43d9-bd73-6723f8b27b3b",
   "metadata": {},
   "outputs": [
    {
     "data": {
      "text/plain": [
       "{'name': 'sudha', 'email_id': 'ss@gmail.com', 'number': 234324}"
      ]
     },
     "execution_count": 5,
     "metadata": {},
     "output_type": "execute_result"
    }
   ],
   "source": [
    "d1"
   ]
  },
  {
   "cell_type": "code",
   "execution_count": 6,
   "id": "4d5abc1a-a78a-447a-8a73-46cd94f38319",
   "metadata": {},
   "outputs": [],
   "source": [
    "d2={\"name\" : \"sudh\" , \"name\" : \"sudhanshu\"}"
   ]
  },
  {
   "cell_type": "code",
   "execution_count": 7,
   "id": "0d64a290-229c-46b3-aad6-29388205d711",
   "metadata": {},
   "outputs": [
    {
     "data": {
      "text/plain": [
       "{'name': 'sudhanshu'}"
      ]
     },
     "execution_count": 7,
     "metadata": {},
     "output_type": "execute_result"
    }
   ],
   "source": [
    "d2"
   ]
  },
  {
   "cell_type": "code",
   "execution_count": 8,
   "id": "76abe99b-fe77-46c2-bf30-656b4d190053",
   "metadata": {},
   "outputs": [],
   "source": [
    "d3={234234: \"abc\"}"
   ]
  },
  {
   "cell_type": "code",
   "execution_count": 9,
   "id": "ff61172e-b679-4373-8f8d-603040e34862",
   "metadata": {},
   "outputs": [
    {
     "data": {
      "text/plain": [
       "{234234: 'abc'}"
      ]
     },
     "execution_count": 9,
     "metadata": {},
     "output_type": "execute_result"
    }
   ],
   "source": [
    "d3"
   ]
  },
  {
   "cell_type": "code",
   "execution_count": 10,
   "id": "28b3a820-8f63-4562-bfee-7fbaf7dfc005",
   "metadata": {
    "jupyter": {
     "source_hidden": true
    },
    "tags": []
   },
   "outputs": [],
   "source": [
    "d4={234.45: 'abc'}"
   ]
  },
  {
   "cell_type": "code",
   "execution_count": 11,
   "id": "f6dec097-4e29-481f-b4ce-7aba96ada749",
   "metadata": {},
   "outputs": [
    {
     "data": {
      "text/plain": [
       "{234.45: 'abc'}"
      ]
     },
     "execution_count": 11,
     "metadata": {},
     "output_type": "execute_result"
    }
   ],
   "source": [
    "d4"
   ]
  },
  {
   "cell_type": "code",
   "execution_count": 12,
   "id": "d583f1ee-be7c-4485-85f8-f491110d6409",
   "metadata": {},
   "outputs": [],
   "source": [
    "d5={True : \"abc\"}"
   ]
  },
  {
   "cell_type": "code",
   "execution_count": 13,
   "id": "727eb7ef-faff-4311-a829-b7f5d0c6fe3a",
   "metadata": {},
   "outputs": [
    {
     "data": {
      "text/plain": [
       "{True: 'abc'}"
      ]
     },
     "execution_count": 13,
     "metadata": {},
     "output_type": "execute_result"
    }
   ],
   "source": [
    "d5"
   ]
  },
  {
   "cell_type": "code",
   "execution_count": 14,
   "id": "f0fe581f-ea9d-4684-9043-e84757f24d13",
   "metadata": {},
   "outputs": [
    {
     "ename": "SyntaxError",
     "evalue": "incomplete input (2725229618.py, line 1)",
     "output_type": "error",
     "traceback": [
      "\u001b[0;36m  Cell \u001b[0;32mIn[14], line 1\u001b[0;36m\u001b[0m\n\u001b[0;31m    d6={# : \"abc\"}\u001b[0m\n\u001b[0m                  ^\u001b[0m\n\u001b[0;31mSyntaxError\u001b[0m\u001b[0;31m:\u001b[0m incomplete input\n"
     ]
    }
   ],
   "source": [
    "d6={# : \"abc\"}"
   ]
  },
  {
   "cell_type": "code",
   "execution_count": 15,
   "id": "d4a22b1b-81d7-4a03-b511-dc34f4720f67",
   "metadata": {},
   "outputs": [
    {
     "ename": "SyntaxError",
     "evalue": "invalid syntax (1775126407.py, line 1)",
     "output_type": "error",
     "traceback": [
      "\u001b[0;36m  Cell \u001b[0;32mIn[15], line 1\u001b[0;36m\u001b[0m\n\u001b[0;31m    d7={@: \"abc\"}\u001b[0m\n\u001b[0m        ^\u001b[0m\n\u001b[0;31mSyntaxError\u001b[0m\u001b[0;31m:\u001b[0m invalid syntax\n"
     ]
    }
   ],
   "source": [
    "d7={@: \"abc\"}"
   ]
  },
  {
   "cell_type": "code",
   "execution_count": 20,
   "id": "33d7b67e-fbc9-47fb-b212-d4da5881c812",
   "metadata": {},
   "outputs": [],
   "source": [
    "d9={(1,2,3) : \"abc\"}"
   ]
  },
  {
   "cell_type": "code",
   "execution_count": 21,
   "id": "882ff729-4e28-4cf4-af5c-639a32c61f4b",
   "metadata": {},
   "outputs": [
    {
     "data": {
      "text/plain": [
       "{(1, 2, 3): 'abc'}"
      ]
     },
     "execution_count": 21,
     "metadata": {},
     "output_type": "execute_result"
    }
   ],
   "source": [
    "d9"
   ]
  },
  {
   "cell_type": "code",
   "execution_count": 18,
   "id": "9e95017f-2247-4da7-84f4-b786e1823c79",
   "metadata": {},
   "outputs": [
    {
     "ename": "TypeError",
     "evalue": "unhashable type: 'set'",
     "output_type": "error",
     "traceback": [
      "\u001b[0;31m---------------------------------------------------------------------------\u001b[0m",
      "\u001b[0;31mTypeError\u001b[0m                                 Traceback (most recent call last)",
      "Cell \u001b[0;32mIn[18], line 1\u001b[0m\n\u001b[0;32m----> 1\u001b[0m d10\u001b[38;5;241m=\u001b[39m{{\u001b[38;5;241m1\u001b[39m,\u001b[38;5;241m2\u001b[39m,\u001b[38;5;241m3\u001b[39m} :\u001b[38;5;124m\"\u001b[39m\u001b[38;5;124mabc\u001b[39m\u001b[38;5;124m\"\u001b[39m}\n",
      "\u001b[0;31mTypeError\u001b[0m: unhashable type: 'set'"
     ]
    }
   ],
   "source": [
    "d10={{1,2,3} :\"abc\"}"
   ]
  },
  {
   "cell_type": "code",
   "execution_count": 19,
   "id": "166b2675-0102-4c47-a009-6812b50f2d76",
   "metadata": {},
   "outputs": [
    {
     "ename": "TypeError",
     "evalue": "unhashable type: 'dict'",
     "output_type": "error",
     "traceback": [
      "\u001b[0;31m---------------------------------------------------------------------------\u001b[0m",
      "\u001b[0;31mTypeError\u001b[0m                                 Traceback (most recent call last)",
      "Cell \u001b[0;32mIn[19], line 1\u001b[0m\n\u001b[0;32m----> 1\u001b[0m {{\u001b[38;5;124m\"\u001b[39m\u001b[38;5;124mkey\u001b[39m\u001b[38;5;124m\"\u001b[39m:\u001b[38;5;241m234\u001b[39m} : \u001b[38;5;124m\"\u001b[39m\u001b[38;5;124mabc\u001b[39m\u001b[38;5;124m\"\u001b[39m}\n",
      "\u001b[0;31mTypeError\u001b[0m: unhashable type: 'dict'"
     ]
    }
   ],
   "source": [
    "{{\"key\":234} : \"abc\"}"
   ]
  },
  {
   "cell_type": "code",
   "execution_count": 22,
   "id": "a5538f0b-3240-4734-91ed-6a958274f6f1",
   "metadata": {},
   "outputs": [],
   "source": [
    "d12={\"course_name\" : [\"data science master\",\"web dev\",\"java with dsa and system design\"]}"
   ]
  },
  {
   "cell_type": "code",
   "execution_count": 23,
   "id": "bcd4ec02-85bb-47be-a211-246ba2b0a9ab",
   "metadata": {},
   "outputs": [
    {
     "data": {
      "text/plain": [
       "{'course_name': ['data science master',\n",
       "  'web dev',\n",
       "  'java with dsa and system design']}"
      ]
     },
     "execution_count": 23,
     "metadata": {},
     "output_type": "execute_result"
    }
   ],
   "source": [
    "d12"
   ]
  },
  {
   "cell_type": "code",
   "execution_count": 24,
   "id": "f65ce01d-2567-4549-aecc-59ba7d886d77",
   "metadata": {},
   "outputs": [],
   "source": [
    "d13 = {\"key\" : (1,2,3,4,5)}"
   ]
  },
  {
   "cell_type": "code",
   "execution_count": 25,
   "id": "d2b457ca-c28d-4c7c-a089-ca88ab12a019",
   "metadata": {},
   "outputs": [],
   "source": [
    "d14 = {\"key\" : {1,2,3,4}}"
   ]
  },
  {
   "cell_type": "code",
   "execution_count": 26,
   "id": "e2ae3693-26dd-4ba7-a831-b3b0dc2f7e83",
   "metadata": {},
   "outputs": [],
   "source": [
    "d15 = {\"key\" : {\"name\" : \"sudhansu\" , \"class\" : \"DSM\"}}"
   ]
  },
  {
   "cell_type": "code",
   "execution_count": 27,
   "id": "65343b8e-090c-4183-8771-8aef205991ce",
   "metadata": {},
   "outputs": [
    {
     "data": {
      "text/plain": [
       "{'key': {'name': 'sudhansu', 'class': 'DSM'}}"
      ]
     },
     "execution_count": 27,
     "metadata": {},
     "output_type": "execute_result"
    }
   ],
   "source": [
    "d15"
   ]
  },
  {
   "cell_type": "code",
   "execution_count": 28,
   "id": "cb811141-86ad-4436-b357-7384cce97432",
   "metadata": {},
   "outputs": [],
   "source": [
    "d16 = {\"batch_name\" :[\"data science master\" , \"web dev\" , \"JDS\"] , \"start_date\" :(28,14,21) , \"mentor\" :{\"Krish\",\"Anurag\",\"sudhu\"}}"
   ]
  },
  {
   "cell_type": "code",
   "execution_count": 29,
   "id": "c973686d-3e29-4d66-982e-f046ac540a51",
   "metadata": {},
   "outputs": [
    {
     "data": {
      "text/plain": [
       "{'batch_name': ['data science master', 'web dev', 'JDS'],\n",
       " 'start_date': (28, 14, 21),\n",
       " 'mentor': {'Anurag', 'Krish', 'sudhu'}}"
      ]
     },
     "execution_count": 29,
     "metadata": {},
     "output_type": "execute_result"
    }
   ],
   "source": [
    "d16"
   ]
  },
  {
   "cell_type": "code",
   "execution_count": 30,
   "id": "5470927c-bef6-4323-bc66-15b0ebca54f7",
   "metadata": {},
   "outputs": [],
   "source": [
    "d16[\"timing\"]= (8,8,8)"
   ]
  },
  {
   "cell_type": "code",
   "execution_count": 31,
   "id": "ab3aa566-81d8-40b6-8ea4-1675b458b148",
   "metadata": {},
   "outputs": [
    {
     "data": {
      "text/plain": [
       "{'batch_name': ['data science master', 'web dev', 'JDS'],\n",
       " 'start_date': (28, 14, 21),\n",
       " 'mentor': {'Anurag', 'Krish', 'sudhu'},\n",
       " 'timing': (8, 8, 8)}"
      ]
     },
     "execution_count": 31,
     "metadata": {},
     "output_type": "execute_result"
    }
   ],
   "source": [
    "d16"
   ]
  },
  {
   "cell_type": "code",
   "execution_count": 32,
   "id": "c35d5f55-08c8-4300-afd6-757a592fb133",
   "metadata": {},
   "outputs": [
    {
     "data": {
      "text/plain": [
       "['data science master', 'web dev', 'JDS']"
      ]
     },
     "execution_count": 32,
     "metadata": {},
     "output_type": "execute_result"
    }
   ],
   "source": [
    "d16[\"batch_name\"]"
   ]
  },
  {
   "cell_type": "code",
   "execution_count": 33,
   "id": "f0da18f9-8a53-4f1f-b5a5-a8172f963009",
   "metadata": {},
   "outputs": [
    {
     "data": {
      "text/plain": [
       "{'Anurag', 'Krish', 'sudhu'}"
      ]
     },
     "execution_count": 33,
     "metadata": {},
     "output_type": "execute_result"
    }
   ],
   "source": [
    "d16[\"mentor\"]"
   ]
  },
  {
   "cell_type": "code",
   "execution_count": 34,
   "id": "01a2f1c9-27c1-45b2-944f-67d448c08af6",
   "metadata": {},
   "outputs": [
    {
     "data": {
      "text/plain": [
       "set"
      ]
     },
     "execution_count": 34,
     "metadata": {},
     "output_type": "execute_result"
    }
   ],
   "source": [
    "type(d16[\"mentor\"])"
   ]
  },
  {
   "cell_type": "code",
   "execution_count": 35,
   "id": "507efa52-efb3-4ac6-9274-74a585bad0a8",
   "metadata": {},
   "outputs": [
    {
     "ename": "KeyError",
     "evalue": "'key'",
     "output_type": "error",
     "traceback": [
      "\u001b[0;31m---------------------------------------------------------------------------\u001b[0m",
      "\u001b[0;31mKeyError\u001b[0m                                  Traceback (most recent call last)",
      "Cell \u001b[0;32mIn[35], line 1\u001b[0m\n\u001b[0;32m----> 1\u001b[0m \u001b[43md16\u001b[49m\u001b[43m[\u001b[49m\u001b[38;5;124;43m\"\u001b[39;49m\u001b[38;5;124;43mkey\u001b[39;49m\u001b[38;5;124;43m\"\u001b[39;49m\u001b[43m]\u001b[49m\n",
      "\u001b[0;31mKeyError\u001b[0m: 'key'"
     ]
    }
   ],
   "source": [
    "d16[\"key\"]"
   ]
  },
  {
   "cell_type": "code",
   "execution_count": 36,
   "id": "0bde097c-6282-4222-baf0-03a3f3067f47",
   "metadata": {},
   "outputs": [],
   "source": [
    "d16[\"name\"]=\"sudhanshu\""
   ]
  },
  {
   "cell_type": "code",
   "execution_count": 37,
   "id": "bcd9779f-34e5-4c9b-9e40-6739d2b6d456",
   "metadata": {},
   "outputs": [
    {
     "data": {
      "text/plain": [
       "{'batch_name': ['data science master', 'web dev', 'JDS'],\n",
       " 'start_date': (28, 14, 21),\n",
       " 'mentor': {'Anurag', 'Krish', 'sudhu'},\n",
       " 'timing': (8, 8, 8),\n",
       " 'name': 'sudhanshu'}"
      ]
     },
     "execution_count": 37,
     "metadata": {},
     "output_type": "execute_result"
    }
   ],
   "source": [
    "d16"
   ]
  },
  {
   "cell_type": "code",
   "execution_count": 38,
   "id": "795c5a6e-1929-4de8-a65b-24dcff76cbb7",
   "metadata": {},
   "outputs": [
    {
     "data": {
      "text/plain": [
       "'SUDHANSHU'"
      ]
     },
     "execution_count": 38,
     "metadata": {},
     "output_type": "execute_result"
    }
   ],
   "source": [
    "d16[\"name\"].upper( )"
   ]
  },
  {
   "cell_type": "code",
   "execution_count": 39,
   "id": "3ba7a097-ffe8-4704-9057-32318c81f266",
   "metadata": {},
   "outputs": [
    {
     "data": {
      "text/plain": [
       "{'key': {'name': 'sudhansu', 'class': 'DSM'}}"
      ]
     },
     "execution_count": 39,
     "metadata": {},
     "output_type": "execute_result"
    }
   ],
   "source": [
    "d15"
   ]
  },
  {
   "cell_type": "code",
   "execution_count": 40,
   "id": "baf91b62-ad08-47eb-b281-7b1d1960ff60",
   "metadata": {},
   "outputs": [
    {
     "data": {
      "text/plain": [
       "{'name': 'sudhansu', 'class': 'DSM'}"
      ]
     },
     "execution_count": 40,
     "metadata": {},
     "output_type": "execute_result"
    }
   ],
   "source": [
    "d15[\"key\"]"
   ]
  },
  {
   "cell_type": "code",
   "execution_count": 41,
   "id": "f79a1e0b-05c6-467a-9c64-b6a72b8e7fcc",
   "metadata": {},
   "outputs": [
    {
     "data": {
      "text/plain": [
       "dict"
      ]
     },
     "execution_count": 41,
     "metadata": {},
     "output_type": "execute_result"
    }
   ],
   "source": [
    "type(d15[\"key\"])"
   ]
  },
  {
   "cell_type": "code",
   "execution_count": 42,
   "id": "094fcbcc-31cf-4c97-9f31-b5ff39e279e5",
   "metadata": {},
   "outputs": [
    {
     "data": {
      "text/plain": [
       "'DSM'"
      ]
     },
     "execution_count": 42,
     "metadata": {},
     "output_type": "execute_result"
    }
   ],
   "source": [
    "d15[\"key\"][\"class\"]"
   ]
  },
  {
   "cell_type": "code",
   "execution_count": 43,
   "id": "a4e60733-982f-43c0-b023-085e76fcbed3",
   "metadata": {},
   "outputs": [],
   "source": [
    "d15[\"key1\"] = \"abc\""
   ]
  },
  {
   "cell_type": "code",
   "execution_count": 44,
   "id": "d4ffa2d5-5599-4c0d-bb33-cb084078a30d",
   "metadata": {},
   "outputs": [
    {
     "data": {
      "text/plain": [
       "{'key': {'name': 'sudhansu', 'class': 'DSM'}, 'key1': 'abc'}"
      ]
     },
     "execution_count": 44,
     "metadata": {},
     "output_type": "execute_result"
    }
   ],
   "source": [
    "d15"
   ]
  },
  {
   "cell_type": "code",
   "execution_count": 45,
   "id": "9a70ef14-45ad-478e-ab06-3c3fa2b59c1a",
   "metadata": {},
   "outputs": [],
   "source": [
    "del d15[\"key1\"]"
   ]
  },
  {
   "cell_type": "code",
   "execution_count": 46,
   "id": "8c2cc035-19a4-47c5-9c3f-e204e88f0b18",
   "metadata": {},
   "outputs": [
    {
     "data": {
      "text/plain": [
       "{'key': {'name': 'sudhansu', 'class': 'DSM'}}"
      ]
     },
     "execution_count": 46,
     "metadata": {},
     "output_type": "execute_result"
    }
   ],
   "source": [
    "d15"
   ]
  },
  {
   "cell_type": "code",
   "execution_count": 47,
   "id": "5bb59544-463a-4632-bfe4-2573b248227c",
   "metadata": {},
   "outputs": [],
   "source": [
    "d15.clear()"
   ]
  },
  {
   "cell_type": "code",
   "execution_count": 48,
   "id": "0af4cb5c-ff83-4b5a-ab1e-c0f05770bd59",
   "metadata": {},
   "outputs": [
    {
     "data": {
      "text/plain": [
       "{}"
      ]
     },
     "execution_count": 48,
     "metadata": {},
     "output_type": "execute_result"
    }
   ],
   "source": [
    "d15"
   ]
  },
  {
   "cell_type": "code",
   "execution_count": 49,
   "id": "f5ba55c9-3de0-4349-a70f-04bb0541e007",
   "metadata": {},
   "outputs": [
    {
     "data": {
      "text/plain": [
       "5"
      ]
     },
     "execution_count": 49,
     "metadata": {},
     "output_type": "execute_result"
    }
   ],
   "source": [
    "len(d16)"
   ]
  },
  {
   "cell_type": "code",
   "execution_count": 50,
   "id": "e9b10590-90b4-4031-b5ae-b6cb3024780e",
   "metadata": {},
   "outputs": [
    {
     "data": {
      "text/plain": [
       "dict_keys(['batch_name', 'start_date', 'mentor', 'timing', 'name'])"
      ]
     },
     "execution_count": 50,
     "metadata": {},
     "output_type": "execute_result"
    }
   ],
   "source": [
    "d16.keys()"
   ]
  },
  {
   "cell_type": "code",
   "execution_count": 51,
   "id": "c9a32cb2-2074-431f-9f27-8551cacd2e5b",
   "metadata": {},
   "outputs": [
    {
     "data": {
      "text/plain": [
       "dict_values([['data science master', 'web dev', 'JDS'], (28, 14, 21), {'Anurag', 'sudhu', 'Krish'}, (8, 8, 8), 'sudhanshu'])"
      ]
     },
     "execution_count": 51,
     "metadata": {},
     "output_type": "execute_result"
    }
   ],
   "source": [
    "d16.values()"
   ]
  },
  {
   "cell_type": "code",
   "execution_count": 52,
   "id": "9ac902c1-eee5-4755-af2a-ce5fc6742331",
   "metadata": {},
   "outputs": [
    {
     "data": {
      "text/plain": [
       "[['data science master', 'web dev', 'JDS'],\n",
       " (28, 14, 21),\n",
       " {'Anurag', 'Krish', 'sudhu'},\n",
       " (8, 8, 8),\n",
       " 'sudhanshu']"
      ]
     },
     "execution_count": 52,
     "metadata": {},
     "output_type": "execute_result"
    }
   ],
   "source": [
    "list(d16.values())"
   ]
  },
  {
   "cell_type": "code",
   "execution_count": 53,
   "id": "09b5998a-08f9-42e1-a529-5549d309bf5d",
   "metadata": {},
   "outputs": [
    {
     "data": {
      "text/plain": [
       "['batch_name', 'start_date', 'mentor', 'timing', 'name']"
      ]
     },
     "execution_count": 53,
     "metadata": {},
     "output_type": "execute_result"
    }
   ],
   "source": [
    "list(d16.keys())"
   ]
  },
  {
   "cell_type": "code",
   "execution_count": 54,
   "id": "9a0e2a7a-ff10-4d6d-b88e-35df954f4957",
   "metadata": {},
   "outputs": [
    {
     "data": {
      "text/plain": [
       "dict_items([('batch_name', ['data science master', 'web dev', 'JDS']), ('start_date', (28, 14, 21)), ('mentor', {'Anurag', 'sudhu', 'Krish'}), ('timing', (8, 8, 8)), ('name', 'sudhanshu')])"
      ]
     },
     "execution_count": 54,
     "metadata": {},
     "output_type": "execute_result"
    }
   ],
   "source": [
    "d16.items()"
   ]
  },
  {
   "cell_type": "code",
   "execution_count": 55,
   "id": "674e0d6c-322a-4f2a-afe9-70addd0eb8a0",
   "metadata": {},
   "outputs": [
    {
     "data": {
      "text/plain": [
       "[('batch_name', ['data science master', 'web dev', 'JDS']),\n",
       " ('start_date', (28, 14, 21)),\n",
       " ('mentor', {'Anurag', 'Krish', 'sudhu'}),\n",
       " ('timing', (8, 8, 8)),\n",
       " ('name', 'sudhanshu')]"
      ]
     },
     "execution_count": 55,
     "metadata": {},
     "output_type": "execute_result"
    }
   ],
   "source": [
    "list(d16.items())"
   ]
  },
  {
   "cell_type": "code",
   "execution_count": 56,
   "id": "192e2c5a-58da-4b08-8d6b-0fddb7b1b68d",
   "metadata": {},
   "outputs": [],
   "source": [
    "d17=d16.copy()"
   ]
  },
  {
   "cell_type": "code",
   "execution_count": 57,
   "id": "4839a15f-580f-43d8-ba53-e0388f392296",
   "metadata": {},
   "outputs": [
    {
     "data": {
      "text/plain": [
       "{'batch_name': ['data science master', 'web dev', 'JDS'],\n",
       " 'start_date': (28, 14, 21),\n",
       " 'mentor': {'Anurag', 'Krish', 'sudhu'},\n",
       " 'timing': (8, 8, 8),\n",
       " 'name': 'sudhanshu'}"
      ]
     },
     "execution_count": 57,
     "metadata": {},
     "output_type": "execute_result"
    }
   ],
   "source": [
    "d17"
   ]
  },
  {
   "cell_type": "code",
   "execution_count": 58,
   "id": "412c3031-63ef-4299-8365-c3467419e56a",
   "metadata": {},
   "outputs": [],
   "source": [
    "d18=d16"
   ]
  },
  {
   "cell_type": "code",
   "execution_count": 59,
   "id": "cc8dd984-6a51-428e-8acc-533f3bd1c5cd",
   "metadata": {},
   "outputs": [
    {
     "data": {
      "text/plain": [
       "{'batch_name': ['data science master', 'web dev', 'JDS'],\n",
       " 'start_date': (28, 14, 21),\n",
       " 'mentor': {'Anurag', 'Krish', 'sudhu'},\n",
       " 'timing': (8, 8, 8),\n",
       " 'name': 'sudhanshu'}"
      ]
     },
     "execution_count": 59,
     "metadata": {},
     "output_type": "execute_result"
    }
   ],
   "source": [
    "d18"
   ]
  },
  {
   "cell_type": "code",
   "execution_count": 60,
   "id": "658c4be7-aeac-47df-a884-f694883937c5",
   "metadata": {},
   "outputs": [
    {
     "data": {
      "text/plain": [
       "{'batch_name': ['data science master', 'web dev', 'JDS'],\n",
       " 'start_date': (28, 14, 21),\n",
       " 'mentor': {'Anurag', 'Krish', 'sudhu'},\n",
       " 'timing': (8, 8, 8),\n",
       " 'name': 'sudhanshu'}"
      ]
     },
     "execution_count": 60,
     "metadata": {},
     "output_type": "execute_result"
    }
   ],
   "source": [
    "d16"
   ]
  },
  {
   "cell_type": "code",
   "execution_count": 62,
   "id": "08f112a0-32f7-4a7a-a836-e027806744d5",
   "metadata": {},
   "outputs": [
    {
     "data": {
      "text/plain": [
       "{1: ('a', 'b', 'c'), 2: ('a', 'b', 'c'), 3: ('a', 'b', 'c')}"
      ]
     },
     "execution_count": 62,
     "metadata": {},
     "output_type": "execute_result"
    }
   ],
   "source": [
    "d.fromkeys((1,2,3),('a','b','c'))"
   ]
  },
  {
   "cell_type": "code",
   "execution_count": 63,
   "id": "5b6ce3a8-26cb-4e0c-bdef-2c23f2bba92f",
   "metadata": {},
   "outputs": [],
   "source": [
    "d19 = {\"key1\":\"value\",\"key2\":\"value2\"}\n",
    "d20 = {\"key3\":\"value3\",\"key4\":\"value4\"}"
   ]
  },
  {
   "cell_type": "code",
   "execution_count": 64,
   "id": "6cab08d3-e83c-4d49-8203-1259b7a8c0f5",
   "metadata": {},
   "outputs": [
    {
     "data": {
      "text/plain": [
       "({'key1': 'value', 'key2': 'value2'}, {'key3': 'value3', 'key4': 'value4'})"
      ]
     },
     "execution_count": 64,
     "metadata": {},
     "output_type": "execute_result"
    }
   ],
   "source": [
    "(d19,d20)"
   ]
  },
  {
   "cell_type": "code",
   "execution_count": 65,
   "id": "e4929fc2-961d-4588-add3-7116b99a5f5c",
   "metadata": {},
   "outputs": [],
   "source": [
    "d19.update(d20)"
   ]
  },
  {
   "cell_type": "code",
   "execution_count": 66,
   "id": "421870e4-2561-4d1f-81e3-e9b27551b97a",
   "metadata": {},
   "outputs": [
    {
     "data": {
      "text/plain": [
       "{'key1': 'value', 'key2': 'value2', 'key3': 'value3', 'key4': 'value4'}"
      ]
     },
     "execution_count": 66,
     "metadata": {},
     "output_type": "execute_result"
    }
   ],
   "source": [
    "d19"
   ]
  },
  {
   "cell_type": "code",
   "execution_count": 67,
   "id": "99b49254-e218-4a16-bdfb-b3eb02d88f85",
   "metadata": {},
   "outputs": [
    {
     "data": {
      "text/plain": [
       "{'key3': 'value3', 'key4': 'value4'}"
      ]
     },
     "execution_count": 67,
     "metadata": {},
     "output_type": "execute_result"
    }
   ],
   "source": [
    "d20"
   ]
  },
  {
   "cell_type": "code",
   "execution_count": 68,
   "id": "31bf2836-1444-427a-93d0-d88b2c5fab18",
   "metadata": {},
   "outputs": [],
   "source": [
    "d20.get(\"sudh\")"
   ]
  },
  {
   "cell_type": "code",
   "execution_count": 69,
   "id": "27b05af3-bd03-41ff-b766-86d8f8ac447a",
   "metadata": {},
   "outputs": [
    {
     "data": {
      "text/plain": [
       "'value3'"
      ]
     },
     "execution_count": 69,
     "metadata": {},
     "output_type": "execute_result"
    }
   ],
   "source": [
    "d20.get(\"key3\")"
   ]
  },
  {
   "cell_type": "code",
   "execution_count": 70,
   "id": "6f9dfa89-69bb-4df8-99cf-a91a97e68d5b",
   "metadata": {},
   "outputs": [
    {
     "data": {
      "text/plain": [
       "'value3'"
      ]
     },
     "execution_count": 70,
     "metadata": {},
     "output_type": "execute_result"
    }
   ],
   "source": [
    "d20[\"key3\"]"
   ]
  },
  {
   "cell_type": "code",
   "execution_count": 71,
   "id": "c45cc3f1-9fd0-4c34-ae19-69de1b65e000",
   "metadata": {},
   "outputs": [
    {
     "ename": "KeyError",
     "evalue": "'sudh'",
     "output_type": "error",
     "traceback": [
      "\u001b[0;31m---------------------------------------------------------------------------\u001b[0m",
      "\u001b[0;31mKeyError\u001b[0m                                  Traceback (most recent call last)",
      "Cell \u001b[0;32mIn[71], line 1\u001b[0m\n\u001b[0;32m----> 1\u001b[0m \u001b[43md20\u001b[49m\u001b[43m[\u001b[49m\u001b[38;5;124;43m\"\u001b[39;49m\u001b[38;5;124;43msudh\u001b[39;49m\u001b[38;5;124;43m\"\u001b[39;49m\u001b[43m]\u001b[49m\n",
      "\u001b[0;31mKeyError\u001b[0m: 'sudh'"
     ]
    }
   ],
   "source": [
    "d20[\"sudh\"]"
   ]
  },
  {
   "cell_type": "markdown",
   "id": "19376434-fed5-48bb-b916-7ecf6a56b22f",
   "metadata": {},
   "source": [
    "Dictionary Comprehension"
   ]
  },
  {
   "cell_type": "code",
   "execution_count": 72,
   "id": "cd04b11a-7b93-4d73-9971-6ed671ea2c04",
   "metadata": {},
   "outputs": [
    {
     "data": {
      "text/plain": [
       "{1: 1, 2: 4, 3: 9, 4: 16, 5: 25, 6: 36, 7: 49, 8: 64, 9: 81, 10: 100}"
      ]
     },
     "execution_count": 72,
     "metadata": {},
     "output_type": "execute_result"
    }
   ],
   "source": [
    "{i:i**2 for i in range(1,11)}"
   ]
  },
  {
   "cell_type": "code",
   "execution_count": 84,
   "id": "8e674e18-81b0-4291-afef-38cc1c5af274",
   "metadata": {},
   "outputs": [
    {
     "data": {
      "text/plain": [
       "[1, 2, 3, 4, 5, 6, 7, 8, 9, 10]"
      ]
     },
     "execution_count": 84,
     "metadata": {},
     "output_type": "execute_result"
    }
   ],
   "source": [
    "list(range(1,11))"
   ]
  },
  {
   "cell_type": "code",
   "execution_count": 77,
   "id": "b63411bc-1c9d-4d7b-8840-676474f5f489",
   "metadata": {},
   "outputs": [
    {
     "data": {
      "text/plain": [
       "range"
      ]
     },
     "execution_count": 77,
     "metadata": {},
     "output_type": "execute_result"
    }
   ],
   "source": [
    "x=range(1,11)\n",
    "type(x)"
   ]
  },
  {
   "cell_type": "code",
   "execution_count": 78,
   "id": "fb78932f-fbda-46dc-827d-2026500c55e8",
   "metadata": {},
   "outputs": [
    {
     "data": {
      "text/plain": [
       "range"
      ]
     },
     "execution_count": 78,
     "metadata": {},
     "output_type": "execute_result"
    }
   ],
   "source": [
    "type(x)"
   ]
  },
  {
   "cell_type": "code",
   "execution_count": 81,
   "id": "f2eeb5f1-bace-4fe7-a4f3-8a716ff2f252",
   "metadata": {},
   "outputs": [
    {
     "data": {
      "text/plain": [
       "tuple"
      ]
     },
     "execution_count": 81,
     "metadata": {},
     "output_type": "execute_result"
    }
   ],
   "source": [
    "type(tuple(range(1,11)))"
   ]
  },
  {
   "cell_type": "code",
   "execution_count": 85,
   "id": "6c6bdddc-58c0-46b7-95bd-d414d845b05c",
   "metadata": {},
   "outputs": [
    {
     "data": {
      "text/plain": [
       "{1: 3, 2: 4, 3: 5, 4: 6, 5: 7, 6: 8, 7: 9, 8: 10, 9: 11, 10: 12}"
      ]
     },
     "execution_count": 85,
     "metadata": {},
     "output_type": "execute_result"
    }
   ],
   "source": [
    "{i:i+2 for i in range(1,11)}"
   ]
  },
  {
   "cell_type": "code",
   "execution_count": 86,
   "id": "247f6c03-f962-4b88-b23d-d5f69ff6b4b1",
   "metadata": {},
   "outputs": [
    {
     "data": {
      "text/plain": [
       "{1: 11, 2: 12, 3: 13, 4: 14, 5: 15, 6: 16, 7: 17, 8: 18, 9: 19, 10: 20}"
      ]
     },
     "execution_count": 86,
     "metadata": {},
     "output_type": "execute_result"
    }
   ],
   "source": [
    "{i:i+10 for i in range(1,11)}"
   ]
  },
  {
   "cell_type": "code",
   "execution_count": 91,
   "id": "22344bb9-caf0-4a34-8c4d-e03f26347cab",
   "metadata": {},
   "outputs": [],
   "source": [
    "import math\n",
    "d21={i:math.log(10) for i in range(1,11)}"
   ]
  },
  {
   "cell_type": "code",
   "execution_count": 89,
   "id": "7e6200fc-f50a-4c69-9db6-e38dc4b656bd",
   "metadata": {},
   "outputs": [
    {
     "data": {
      "text/plain": [
       "{'batch_name': ['data science master', 'web dev', 'JDS'],\n",
       " 'start_date': (28, 14, 21),\n",
       " 'mentor': {'Anurag', 'Krish', 'sudhu'},\n",
       " 'timing': (8, 8, 8),\n",
       " 'name': 'sudhanshu'}"
      ]
     },
     "execution_count": 89,
     "metadata": {},
     "output_type": "execute_result"
    }
   ],
   "source": [
    "d16"
   ]
  },
  {
   "cell_type": "code",
   "execution_count": 90,
   "id": "a564986f-0cfe-4f04-9463-db70d2606f06",
   "metadata": {},
   "outputs": [
    {
     "data": {
      "text/plain": [
       "True"
      ]
     },
     "execution_count": 90,
     "metadata": {},
     "output_type": "execute_result"
    }
   ],
   "source": [
    "\"batch_name\" in d16"
   ]
  },
  {
   "cell_type": "code",
   "execution_count": 96,
   "id": "3b0d9444-20cf-49df-8cc8-9525db1e2a87",
   "metadata": {},
   "outputs": [
    {
     "data": {
      "text/plain": [
       "{1: 2.302585092994046,\n",
       " 2: 2.302585092994046,\n",
       " 3: 2.302585092994046,\n",
       " 4: 2.302585092994046,\n",
       " 5: 2.302585092994046,\n",
       " 6: 2.302585092994046,\n",
       " 7: 2.302585092994046,\n",
       " 8: 2.302585092994046,\n",
       " 9: 2.302585092994046,\n",
       " 10: 2.302585092994046}"
      ]
     },
     "execution_count": 96,
     "metadata": {},
     "output_type": "execute_result"
    }
   ],
   "source": [
    "d21"
   ]
  },
  {
   "cell_type": "code",
   "execution_count": 100,
   "id": "f0592088-b41e-4613-8c3e-c9d7df3166e9",
   "metadata": {},
   "outputs": [
    {
     "name": "stdout",
     "output_type": "stream",
     "text": [
      "2.302585092994046\n",
      "2.302585092994046\n",
      "2.302585092994046\n",
      "2.302585092994046\n",
      "2.302585092994046\n"
     ]
    }
   ],
   "source": [
    "for i in d21.keys():\n",
    "    if i % 2==0:\n",
    "        print(d21[i])\n",
    "    "
   ]
  },
  {
   "cell_type": "code",
   "execution_count": null,
   "id": "b586fc4e-d390-4d4f-86dc-5606cfadefac",
   "metadata": {},
   "outputs": [],
   "source": []
  }
 ],
 "metadata": {
  "kernelspec": {
   "display_name": "Python 3 (ipykernel)",
   "language": "python",
   "name": "python3"
  },
  "language_info": {
   "codemirror_mode": {
    "name": "ipython",
    "version": 3
   },
   "file_extension": ".py",
   "mimetype": "text/x-python",
   "name": "python",
   "nbconvert_exporter": "python",
   "pygments_lexer": "ipython3",
   "version": "3.10.8"
  }
 },
 "nbformat": 4,
 "nbformat_minor": 5
}
